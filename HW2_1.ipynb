{
  "nbformat": 4,
  "nbformat_minor": 0,
  "metadata": {
    "colab": {
      "provenance": [],
      "authorship_tag": "ABX9TyMaKG+kKISOWc0smrXFOqUe",
      "include_colab_link": true
    },
    "kernelspec": {
      "name": "python3",
      "display_name": "Python 3"
    },
    "language_info": {
      "name": "python"
    }
  },
  "cells": [
    {
      "cell_type": "markdown",
      "metadata": {
        "id": "view-in-github",
        "colab_type": "text"
      },
      "source": [
        "<a href=\"https://colab.research.google.com/github/Noma9d/Python_Data_Science/blob/main/HW2_1.ipynb\" target=\"_parent\"><img src=\"https://colab.research.google.com/assets/colab-badge.svg\" alt=\"Open In Colab\"/></a>"
      ]
    },
    {
      "cell_type": "markdown",
      "source": [
        "Прочитайте дані за допомогою методу read_html з таблиці \"Коефіцієнт народжуваності в регіонах України (1950—2019)\""
      ],
      "metadata": {
        "id": "uajetTV3Nf6n"
      }
    },
    {
      "cell_type": "markdown",
      "source": [
        "Вивести перші рядки таблиці за допомогою методу head"
      ],
      "metadata": {
        "id": "JVqz49c2Ni76"
      }
    },
    {
      "cell_type": "code",
      "execution_count": 1,
      "metadata": {
        "id": "StOcGMQh-Iay",
        "outputId": "612133cd-0b6a-4eef-c3b8-92e8985bf689",
        "colab": {
          "base_uri": "https://localhost:8080/"
        }
      },
      "outputs": [
        {
          "output_type": "stream",
          "name": "stdout",
          "text": [
            "             Регіон   1950   1960   1970  1990  2000  2012 2014 2019\n",
            "0              Крим  230.0  206.0  160.0   130    73   126    —    —\n",
            "1         Вінницька  224.0  192.0  142.0   124    84   112  109   76\n",
            "2         Волинська  247.0  250.0  179.0   153   112   148  141  101\n",
            "3  Дніпропетровська  204.0  204.0  151.0   123    71   112  111   71\n",
            "4          Донецька  271.0  214.0  140.0   109    61    98   82    —\n"
          ]
        }
      ],
      "source": [
        "import pandas as pd\n",
        "\n",
        "\n",
        "tables = pd.read_html('https://uk.wikipedia.org/wiki/%D0%9D%D0%B0%D1%81%D0%B5%D0%BB%D0%B5%D0%BD%D0%BD%D1%8F_%D0%A3%D0%BA%D1%80%D0%B0%D1%97%D0%BD%D0%B8', match = \"Коефіцієнт народжуваності в регіонах України\")\n",
        "print(tables[0].head())"
      ]
    },
    {
      "cell_type": "markdown",
      "source": [
        "Визначте кількість рядків та стовпців у датафреймі (атрибут shape)"
      ],
      "metadata": {
        "id": "g-IEPeaVNlRf"
      }
    },
    {
      "cell_type": "code",
      "source": [
        "data_frame = pd.DataFrame(tables[0])\n",
        "print(data_frame.shape)"
      ],
      "metadata": {
        "colab": {
          "base_uri": "https://localhost:8080/"
        },
        "id": "Ji1rG_-PM_KE",
        "outputId": "f40ad506-bb8a-4f35-8119-056667a51f0e"
      },
      "execution_count": 5,
      "outputs": [
        {
          "output_type": "stream",
          "name": "stdout",
          "text": [
            "(28, 9)\n"
          ]
        }
      ]
    },
    {
      "cell_type": "markdown",
      "source": [
        "Замініть у таблиці значення \"—\" на значення NaN"
      ],
      "metadata": {
        "id": "ef1vPpIcNn6Y"
      }
    },
    {
      "cell_type": "code",
      "source": [
        "import numpy as np\n",
        "\n",
        "nan_data_frame = data_frame.replace('—', np.nan)\n",
        "\n",
        "print(nan_data_frame)"
      ],
      "metadata": {
        "colab": {
          "base_uri": "https://localhost:8080/"
        },
        "id": "yC_dXy-2NqlP",
        "outputId": "2a17f8b3-08a2-430e-eef8-a2649fcebcb7"
      },
      "execution_count": 10,
      "outputs": [
        {
          "output_type": "stream",
          "name": "stdout",
          "text": [
            "               Регіон   1950   1960   1970  1990  2000  2012 2014 2019\n",
            "0                Крим  230.0  206.0  160.0   130    73   126  NaN  NaN\n",
            "1           Вінницька  224.0  192.0  142.0   124    84   112  109   76\n",
            "2           Волинська  247.0  250.0  179.0   153   112   148  141  101\n",
            "3    Дніпропетровська  204.0  204.0  151.0   123    71   112  111   71\n",
            "4            Донецька  271.0  214.0  140.0   109    61    98   82  NaN\n",
            "5         Житомирська  261.0  223.0  159.0   129    89   122  120   79\n",
            "6        Закарпатська  314.0  273.0  207.0   168   115   151  146  104\n",
            "7          Запорізька  219.0  197.0  150.0   124    71   106  106   68\n",
            "8   Івано-Франківська  243.0  248.0  182.0   155   103   124  122   88\n",
            "9            Київська  204.0  189.0  156.0   123    73   122  121   80\n",
            "10     Кіровоградська  216.0  171.0  145.0   126    79   110  108   68\n",
            "11          Луганська  262.0  235.0  144.0   116    62    96   51  NaN\n",
            "12          Львівська  234.0  240.0  171.0   140    91   119  119   87\n",
            "13       Миколаївська  211.0  194.0  155.0   137    80   115  112   71\n",
            "14            Одеська  241.0  192.0  148.0   126    80   127  123   88\n",
            "15         Полтавська  186.0  163.0  131.0   118    70    99  100   65\n",
            "16         Рівненська  269.0  267.0  193.0   158   118   159  148  107\n",
            "17            Сумська  216.0  184.0  132.0   115    70    97   92   60\n",
            "18      Тернопільська  213.0  216.0  157.0   142    92   113  109   76\n",
            "19         Харківська  197.0  173.0  140.0   114    68    99  101   68\n",
            "20         Херсонська  208.0  214.0  166.0   143    85   117  115   81\n",
            "21        Хмельницька  234.0  198.0  148.0   129    85   113  112   79\n",
            "22          Черкаська  205.0  179.0  144.0   123    75   100   98   64\n",
            "23        Чернівецька  247.0  218.0  170.0   148   101   128  129   92\n",
            "24       Чернігівська  220.0  183.0  127.0   108    69    94   90   61\n",
            "25               Київ    NaN  174.0  159.0   120    73   120  121  110\n",
            "26        Севастополь    NaN    NaN    NaN   125    70   120  NaN  NaN\n",
            "27            Україна  228.0  205.0  152.0   126    78   114  111   81\n"
          ]
        }
      ]
    },
    {
      "cell_type": "markdown",
      "source": [
        "Визначте типи всіх стовпців за допомогою dataframe.dtypes"
      ],
      "metadata": {
        "id": "9qlwEa_yO_mC"
      }
    },
    {
      "cell_type": "code",
      "source": [
        "type_cols = nan_data_frame.dtypes\n",
        "print(type_cols)"
      ],
      "metadata": {
        "colab": {
          "base_uri": "https://localhost:8080/"
        },
        "id": "xUGZL1L0PCvC",
        "outputId": "cfb4d782-1f11-4680-ba3b-d1c1d49579ce"
      },
      "execution_count": 12,
      "outputs": [
        {
          "output_type": "stream",
          "name": "stdout",
          "text": [
            "Регіон     object\n",
            "1950      float64\n",
            "1960      float64\n",
            "1970      float64\n",
            "1990        int64\n",
            "2000        int64\n",
            "2012        int64\n",
            "2014       object\n",
            "2019       object\n",
            "dtype: object\n"
          ]
        }
      ]
    },
    {
      "cell_type": "markdown",
      "source": [
        "Замініть типи нечислових колонок на числові. Підказка - це колонки, де знаходився символ \"—\""
      ],
      "metadata": {
        "id": "PyrfQAIvPxLB"
      }
    },
    {
      "cell_type": "code",
      "source": [
        "for column in data_frame.columns:\n",
        "  if data_frame[column].dtype == object and '—' in data_frame[column].values:\n",
        "    data_frame[column] = pd.to_numeric(data_frame[column], errors='coerce')\n",
        "\n",
        "print(data_frame.dtypes)"
      ],
      "metadata": {
        "colab": {
          "base_uri": "https://localhost:8080/"
        },
        "id": "IH_YzDzmP1pw",
        "outputId": "73cc9cb2-8fc7-4c4c-8807-82155d2138c2"
      },
      "execution_count": 19,
      "outputs": [
        {
          "output_type": "stream",
          "name": "stdout",
          "text": [
            "Регіон     object\n",
            "1950      float64\n",
            "1960      float64\n",
            "1970      float64\n",
            "1990        int64\n",
            "2000        int64\n",
            "2012        int64\n",
            "2014      float64\n",
            "2019      float64\n",
            "dtype: object\n"
          ]
        }
      ]
    },
    {
      "cell_type": "markdown",
      "source": [
        "Порахуйте, яка частка пропусків міститься в кожній колонці (використовуйте методи isnull та sum)"
      ],
      "metadata": {
        "id": "L1ZLEmHPSucO"
      }
    },
    {
      "cell_type": "code",
      "source": [
        "isnull_data_frame = data_frame.isnull().mean()\n",
        "\n",
        "print(isnull_data_frame)"
      ],
      "metadata": {
        "colab": {
          "base_uri": "https://localhost:8080/"
        },
        "id": "TNY-cdr8Sxrq",
        "outputId": "9211bdfa-b8f4-409f-ce90-8770eb086b2e"
      },
      "execution_count": 20,
      "outputs": [
        {
          "output_type": "stream",
          "name": "stdout",
          "text": [
            "Регіон    0.000000\n",
            "1950      0.071429\n",
            "1960      0.035714\n",
            "1970      0.035714\n",
            "1990      0.000000\n",
            "2000      0.000000\n",
            "2012      0.000000\n",
            "2014      0.071429\n",
            "2019      0.142857\n",
            "dtype: float64\n"
          ]
        }
      ]
    },
    {
      "cell_type": "markdown",
      "source": [
        "Видаліть з таблиці дані по всій країні, останній рядок таблиці"
      ],
      "metadata": {
        "id": "ezpu8vPfTnG8"
      }
    },
    {
      "cell_type": "code",
      "source": [
        "drop_last_rows_data_frame = data_frame.drop(data_frame.index[-1])\n",
        "print(drop_last_rows_data_frame)"
      ],
      "metadata": {
        "colab": {
          "base_uri": "https://localhost:8080/"
        },
        "id": "PqcyVokZTnvr",
        "outputId": "5075d1c2-655d-437e-834f-efe6e0621e26"
      },
      "execution_count": 21,
      "outputs": [
        {
          "output_type": "stream",
          "name": "stdout",
          "text": [
            "               Регіон   1950   1960   1970  1990  2000  2012   2014   2019\n",
            "0                Крим  230.0  206.0  160.0   130    73   126    NaN    NaN\n",
            "1           Вінницька  224.0  192.0  142.0   124    84   112  109.0   76.0\n",
            "2           Волинська  247.0  250.0  179.0   153   112   148  141.0  101.0\n",
            "3    Дніпропетровська  204.0  204.0  151.0   123    71   112  111.0   71.0\n",
            "4            Донецька  271.0  214.0  140.0   109    61    98   82.0    NaN\n",
            "5         Житомирська  261.0  223.0  159.0   129    89   122  120.0   79.0\n",
            "6        Закарпатська  314.0  273.0  207.0   168   115   151  146.0  104.0\n",
            "7          Запорізька  219.0  197.0  150.0   124    71   106  106.0   68.0\n",
            "8   Івано-Франківська  243.0  248.0  182.0   155   103   124  122.0   88.0\n",
            "9            Київська  204.0  189.0  156.0   123    73   122  121.0   80.0\n",
            "10     Кіровоградська  216.0  171.0  145.0   126    79   110  108.0   68.0\n",
            "11          Луганська  262.0  235.0  144.0   116    62    96   51.0    NaN\n",
            "12          Львівська  234.0  240.0  171.0   140    91   119  119.0   87.0\n",
            "13       Миколаївська  211.0  194.0  155.0   137    80   115  112.0   71.0\n",
            "14            Одеська  241.0  192.0  148.0   126    80   127  123.0   88.0\n",
            "15         Полтавська  186.0  163.0  131.0   118    70    99  100.0   65.0\n",
            "16         Рівненська  269.0  267.0  193.0   158   118   159  148.0  107.0\n",
            "17            Сумська  216.0  184.0  132.0   115    70    97   92.0   60.0\n",
            "18      Тернопільська  213.0  216.0  157.0   142    92   113  109.0   76.0\n",
            "19         Харківська  197.0  173.0  140.0   114    68    99  101.0   68.0\n",
            "20         Херсонська  208.0  214.0  166.0   143    85   117  115.0   81.0\n",
            "21        Хмельницька  234.0  198.0  148.0   129    85   113  112.0   79.0\n",
            "22          Черкаська  205.0  179.0  144.0   123    75   100   98.0   64.0\n",
            "23        Чернівецька  247.0  218.0  170.0   148   101   128  129.0   92.0\n",
            "24       Чернігівська  220.0  183.0  127.0   108    69    94   90.0   61.0\n",
            "25               Київ    NaN  174.0  159.0   120    73   120  121.0  110.0\n",
            "26        Севастополь    NaN    NaN    NaN   125    70   120    NaN    NaN\n"
          ]
        }
      ]
    },
    {
      "cell_type": "markdown",
      "source": [
        "Замініть відсутні дані в стовпцях середніми значеннями цих стовпців (метод fillna)"
      ],
      "metadata": {
        "id": "FOnyqMAfUEeE"
      }
    },
    {
      "cell_type": "code",
      "source": [
        "fillna_data_frame = data_frame.fillna(data_frame.mean())\n",
        "print(fillna_data_frame)"
      ],
      "metadata": {
        "colab": {
          "base_uri": "https://localhost:8080/"
        },
        "id": "v8Lzn5wAUIkP",
        "outputId": "f52a131f-6161-4a72-b461-62058bd42c61"
      },
      "execution_count": 35,
      "outputs": [
        {
          "output_type": "stream",
          "name": "stdout",
          "text": [
            "               Регіон        1950        1960        1970  1990  2000  2012  \\\n",
            "0                Крим  230.000000  206.000000  160.000000   130    73   126   \n",
            "1           Вінницька  224.000000  192.000000  142.000000   124    84   112   \n",
            "2           Волинська  247.000000  250.000000  179.000000   153   112   148   \n",
            "3    Дніпропетровська  204.000000  204.000000  151.000000   123    71   112   \n",
            "4            Донецька  271.000000  214.000000  140.000000   109    61    98   \n",
            "5         Житомирська  261.000000  223.000000  159.000000   129    89   122   \n",
            "6        Закарпатська  314.000000  273.000000  207.000000   168   115   151   \n",
            "7          Запорізька  219.000000  197.000000  150.000000   124    71   106   \n",
            "8   Івано-Франківська  243.000000  248.000000  182.000000   155   103   124   \n",
            "9            Київська  204.000000  189.000000  156.000000   123    73   122   \n",
            "10     Кіровоградська  216.000000  171.000000  145.000000   126    79   110   \n",
            "11          Луганська  262.000000  235.000000  144.000000   116    62    96   \n",
            "12          Львівська  234.000000  240.000000  171.000000   140    91   119   \n",
            "13       Миколаївська  211.000000  194.000000  155.000000   137    80   115   \n",
            "14            Одеська  241.000000  192.000000  148.000000   126    80   127   \n",
            "15         Полтавська  186.000000  163.000000  131.000000   118    70    99   \n",
            "16         Рівненська  269.000000  267.000000  193.000000   158   118   159   \n",
            "17            Сумська  216.000000  184.000000  132.000000   115    70    97   \n",
            "18      Тернопільська  213.000000  216.000000  157.000000   142    92   113   \n",
            "19         Харківська  197.000000  173.000000  140.000000   114    68    99   \n",
            "20         Херсонська  208.000000  214.000000  166.000000   143    85   117   \n",
            "21        Хмельницька  234.000000  198.000000  148.000000   129    85   113   \n",
            "22          Черкаська  205.000000  179.000000  144.000000   123    75   100   \n",
            "23        Чернівецька  247.000000  218.000000  170.000000   148   101   128   \n",
            "24       Чернігівська  220.000000  183.000000  127.000000   108    69    94   \n",
            "25               Київ  230.923077  174.000000  159.000000   120    73   120   \n",
            "26        Севастополь  230.923077  207.481481  155.851852   125    70   120   \n",
            "27            Україна  228.000000  205.000000  152.000000   126    78   114   \n",
            "\n",
            "          2014        2019  \n",
            "0   111.423077   80.208333  \n",
            "1   109.000000   76.000000  \n",
            "2   141.000000  101.000000  \n",
            "3   111.000000   71.000000  \n",
            "4    82.000000   80.208333  \n",
            "5   120.000000   79.000000  \n",
            "6   146.000000  104.000000  \n",
            "7   106.000000   68.000000  \n",
            "8   122.000000   88.000000  \n",
            "9   121.000000   80.000000  \n",
            "10  108.000000   68.000000  \n",
            "11   51.000000   80.208333  \n",
            "12  119.000000   87.000000  \n",
            "13  112.000000   71.000000  \n",
            "14  123.000000   88.000000  \n",
            "15  100.000000   65.000000  \n",
            "16  148.000000  107.000000  \n",
            "17   92.000000   60.000000  \n",
            "18  109.000000   76.000000  \n",
            "19  101.000000   68.000000  \n",
            "20  115.000000   81.000000  \n",
            "21  112.000000   79.000000  \n",
            "22   98.000000   64.000000  \n",
            "23  129.000000   92.000000  \n",
            "24   90.000000   61.000000  \n",
            "25  121.000000  110.000000  \n",
            "26  111.423077   80.208333  \n",
            "27  111.000000   81.000000  \n"
          ]
        },
        {
          "output_type": "stream",
          "name": "stderr",
          "text": [
            "<ipython-input-35-782d34f224e8>:1: FutureWarning: The default value of numeric_only in DataFrame.mean is deprecated. In a future version, it will default to False. In addition, specifying 'numeric_only=None' is deprecated. Select only valid columns or specify the value of numeric_only to silence this warning.\n",
            "  fillna_data_frame = data_frame.fillna(data_frame.mean())\n"
          ]
        }
      ]
    },
    {
      "cell_type": "markdown",
      "source": [
        "Отримайте список регіонів, де рівень народжуваності у 2019 році був вищим за середній по Україні"
      ],
      "metadata": {
        "id": "xhDKoXHrY7si"
      }
    },
    {
      "cell_type": "code",
      "source": [
        "avarage_data = data_frame['2019'].mean()\n",
        "per_avarage_data = data_frame[data_frame['2019'] > avarage_data]['Регіон'].tolist()\n",
        "print(per_avarage_data)"
      ],
      "metadata": {
        "colab": {
          "base_uri": "https://localhost:8080/"
        },
        "id": "aATlF6khY-9b",
        "outputId": "bcef55c0-9bdc-42b6-e069-df7cca58101d"
      },
      "execution_count": 41,
      "outputs": [
        {
          "output_type": "stream",
          "name": "stdout",
          "text": [
            "['Волинська', 'Закарпатська', 'Івано-Франківська', 'Львівська', 'Одеська', 'Рівненська', 'Херсонська', 'Чернівецька', 'Київ', 'Україна']\n"
          ]
        }
      ]
    },
    {
      "cell_type": "markdown",
      "source": [
        "У якому регіоні була найвища народжуваність у 2014 році?"
      ],
      "metadata": {
        "id": "RwPX77_baqm6"
      }
    },
    {
      "cell_type": "code",
      "source": [
        "max_data_2014 = data_frame['2014'].max()\n",
        "max_region_2014 = data_frame[data_frame['2014'] == max_data_2014]['Регіон'].iloc[0]\n",
        "print(max_region_2014)"
      ],
      "metadata": {
        "colab": {
          "base_uri": "https://localhost:8080/"
        },
        "id": "LHESEzddatnM",
        "outputId": "23c4305c-d561-45dd-ab00-c43cf69f58e0"
      },
      "execution_count": 42,
      "outputs": [
        {
          "output_type": "stream",
          "name": "stdout",
          "text": [
            "Рівненська\n"
          ]
        }
      ]
    },
    {
      "cell_type": "markdown",
      "source": [
        "Побудуйте стовпчикову діаграму народжуваності по регіонах у 2019 році"
      ],
      "metadata": {
        "id": "q8zGDbPzbQBd"
      }
    },
    {
      "cell_type": "code",
      "source": [
        "import matplotlib.pyplot as plt\n",
        "\n",
        "plt.bar(fillna_data_frame['Регіон'], fillna_data_frame['2019'], width = 0.75)\n",
        "plt.xlabel('Регіон', fontsize=\"small\")\n",
        "plt.ylabel('Рівень народжуваності у 2019 році', fontsize=\"small\")\n",
        "plt.title('Народжуваність по регіонах у 2019 році')\n",
        "plt.xticks(rotation=90, ha='right')\n",
        "plt.tight_layout()\n",
        "plt.show()"
      ],
      "metadata": {
        "colab": {
          "base_uri": "https://localhost:8080/",
          "height": 487
        },
        "id": "C9Lr0RiJbSR_",
        "outputId": "e8619d15-8acf-4789-f17a-66fb817bd5b8"
      },
      "execution_count": 56,
      "outputs": [
        {
          "output_type": "display_data",
          "data": {
            "text/plain": [
              "<Figure size 640x480 with 1 Axes>"
            ],
            "image/png": "[encoded data removed]"
          },
          "metadata": {}
        }
      ]
    }
  ]
}