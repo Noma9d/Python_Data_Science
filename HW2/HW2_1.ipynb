{
  "cells": [
    {
      "cell_type": "markdown",
      "metadata": {
        "colab_type": "text",
        "id": "view-in-github"
      },
      "source": [
        "<a href=\"https://colab.research.google.com/github/Noma9d/Python_Data_Science/blob/main/HW2_1.ipynb\" target=\"_parent\"><img src=\"https://colab.research.google.com/assets/colab-badge.svg\" alt=\"Open In Colab\"/></a>"
      ]
    },
    {
      "cell_type": "markdown",
      "metadata": {
        "id": "uajetTV3Nf6n"
      },
      "source": [
        "Прочитайте дані за допомогою методу read_html з таблиці \"Коефіцієнт народжуваності в регіонах України (1950—2019)\""
      ]
    },
    {
      "cell_type": "markdown",
      "metadata": {
        "id": "JVqz49c2Ni76"
      },
      "source": [
        "Вивести перші рядки таблиці за допомогою методу head"
      ]
    },
    {
      "cell_type": "code",
      "execution_count": 1,
      "metadata": {
        "colab": {
          "base_uri": "https://localhost:8080/"
        },
        "id": "StOcGMQh-Iay",
        "outputId": "612133cd-0b6a-4eef-c3b8-92e8985bf689"
      },
      "outputs": [
        {
          "name": "stdout",
          "output_type": "stream",
          "text": [
            "             Регіон   1950   1960   1970  1990  2000  2012 2014 2019\n",
            "0              Крим  230.0  206.0  160.0   130    73   126    —    —\n",
            "1         Вінницька  224.0  192.0  142.0   124    84   112  109   76\n",
            "2         Волинська  247.0  250.0  179.0   153   112   148  141  101\n",
            "3  Дніпропетровська  204.0  204.0  151.0   123    71   112  111   71\n",
            "4          Донецька  271.0  214.0  140.0   109    61    98   82    —\n"
          ]
        }
      ],
      "source": [
        "import pandas as pd\n",
        "%matplotlib inline\n",
        "\n",
        "tables = pd.read_html('https://uk.wikipedia.org/wiki/%D0%9D%D0%B0%D1%81%D0%B5%D0%BB%D0%B5%D0%BD%D0%BD%D1%8F_%D0%A3%D0%BA%D1%80%D0%B0%D1%97%D0%BD%D0%B8', match = \"Коефіцієнт народжуваності в регіонах України\")\n",
        "print(tables[0].head())"
      ]
    },
    {
      "cell_type": "markdown",
      "metadata": {
        "id": "g-IEPeaVNlRf"
      },
      "source": [
        "Визначте кількість рядків та стовпців у датафреймі (атрибут shape)"
      ]
    },
    {
      "cell_type": "code",
      "execution_count": 2,
      "metadata": {
        "colab": {
          "base_uri": "https://localhost:8080/"
        },
        "id": "Ji1rG_-PM_KE",
        "outputId": "f40ad506-bb8a-4f35-8119-056667a51f0e"
      },
      "outputs": [
        {
          "name": "stdout",
          "output_type": "stream",
          "text": [
            "(28, 9)\n"
          ]
        }
      ],
      "source": [
        "data_frame = pd.DataFrame(tables[0])\n",
        "print(data_frame.shape)"
      ]
    },
    {
      "cell_type": "markdown",
      "metadata": {
        "id": "ef1vPpIcNn6Y"
      },
      "source": [
        "Замініть у таблиці значення \"—\" на значення NaN"
      ]
    },
    {
      "cell_type": "code",
      "execution_count": 3,
      "metadata": {
        "colab": {
          "base_uri": "https://localhost:8080/"
        },
        "id": "yC_dXy-2NqlP",
        "outputId": "2a17f8b3-08a2-430e-eef8-a2649fcebcb7"
      },
      "outputs": [
        {
          "name": "stdout",
          "output_type": "stream",
          "text": [
            "               Регіон   1950   1960   1970  1990  2000  2012 2014 2019\n",
            "0                Крим  230.0  206.0  160.0   130    73   126  NaN  NaN\n",
            "1           Вінницька  224.0  192.0  142.0   124    84   112  109   76\n",
            "2           Волинська  247.0  250.0  179.0   153   112   148  141  101\n",
            "3    Дніпропетровська  204.0  204.0  151.0   123    71   112  111   71\n",
            "4            Донецька  271.0  214.0  140.0   109    61    98   82  NaN\n",
            "5         Житомирська  261.0  223.0  159.0   129    89   122  120   79\n",
            "6        Закарпатська  314.0  273.0  207.0   168   115   151  146  104\n",
            "7          Запорізька  219.0  197.0  150.0   124    71   106  106   68\n",
            "8   Івано-Франківська  243.0  248.0  182.0   155   103   124  122   88\n",
            "9            Київська  204.0  189.0  156.0   123    73   122  121   80\n",
            "10     Кіровоградська  216.0  171.0  145.0   126    79   110  108   68\n",
            "11          Луганська  262.0  235.0  144.0   116    62    96   51  NaN\n",
            "12          Львівська  234.0  240.0  171.0   140    91   119  119   87\n",
            "13       Миколаївська  211.0  194.0  155.0   137    80   115  112   71\n",
            "14            Одеська  241.0  192.0  148.0   126    80   127  123   88\n",
            "15         Полтавська  186.0  163.0  131.0   118    70    99  100   65\n",
            "16         Рівненська  269.0  267.0  193.0   158   118   159  148  107\n",
            "17            Сумська  216.0  184.0  132.0   115    70    97   92   60\n",
            "18      Тернопільська  213.0  216.0  157.0   142    92   113  109   76\n",
            "19         Харківська  197.0  173.0  140.0   114    68    99  101   68\n",
            "20         Херсонська  208.0  214.0  166.0   143    85   117  115   81\n",
            "21        Хмельницька  234.0  198.0  148.0   129    85   113  112   79\n",
            "22          Черкаська  205.0  179.0  144.0   123    75   100   98   64\n",
            "23        Чернівецька  247.0  218.0  170.0   148   101   128  129   92\n",
            "24       Чернігівська  220.0  183.0  127.0   108    69    94   90   61\n",
            "25               Київ    NaN  174.0  159.0   120    73   120  121  110\n",
            "26        Севастополь    NaN    NaN    NaN   125    70   120  NaN  NaN\n",
            "27            Україна  228.0  205.0  152.0   126    78   114  111   81\n"
          ]
        }
      ],
      "source": [
        "import numpy as np\n",
        "\n",
        "nan_data_frame = data_frame.replace('—', np.nan)\n",
        "\n",
        "print(nan_data_frame)"
      ]
    },
    {
      "cell_type": "markdown",
      "metadata": {
        "id": "9qlwEa_yO_mC"
      },
      "source": [
        "Визначте типи всіх стовпців за допомогою dataframe.dtypes"
      ]
    },
    {
      "cell_type": "code",
      "execution_count": 12,
      "metadata": {
        "colab": {
          "base_uri": "https://localhost:8080/"
        },
        "id": "xUGZL1L0PCvC",
        "outputId": "cfb4d782-1f11-4680-ba3b-d1c1d49579ce"
      },
      "outputs": [
        {
          "name": "stdout",
          "output_type": "stream",
          "text": [
            "Регіон     object\n",
            "1950      float64\n",
            "1960      float64\n",
            "1970      float64\n",
            "1990        int64\n",
            "2000        int64\n",
            "2012        int64\n",
            "2014       object\n",
            "2019       object\n",
            "dtype: object\n"
          ]
        }
      ],
      "source": [
        "type_cols = nan_data_frame.dtypes\n",
        "print(type_cols)"
      ]
    },
    {
      "cell_type": "markdown",
      "metadata": {
        "id": "PyrfQAIvPxLB"
      },
      "source": [
        "Замініть типи нечислових колонок на числові. Підказка - це колонки, де знаходився символ \"—\""
      ]
    },
    {
      "cell_type": "code",
      "execution_count": 24,
      "metadata": {
        "colab": {
          "base_uri": "https://localhost:8080/"
        },
        "id": "IH_YzDzmP1pw",
        "outputId": "73cc9cb2-8fc7-4c4c-8807-82155d2138c2"
      },
      "outputs": [
        {
          "data": {
            "text/plain": [
              "Регіон     object\n",
              "1950      float64\n",
              "1960      float64\n",
              "1970      float64\n",
              "1990        int64\n",
              "2000        int64\n",
              "2012        int64\n",
              "2014      float64\n",
              "2019      float64\n",
              "dtype: object"
            ]
          },
          "execution_count": 24,
          "metadata": {},
          "output_type": "execute_result"
        }
      ],
      "source": [
        "nan_data_frame = nan_data_frame.replace(\"—\", np.nan)\n",
        "\n",
        "numeric_columns = nan_data_frame.select_dtypes(include=['object'])\n",
        "\n",
        "for column in numeric_columns.columns:\n",
        "    if column != 'Регіон':\n",
        "        nan_data_frame[column] = pd.to_numeric(nan_data_frame[column], errors='coerce')\n",
        "\n",
        "nan_data_frame.dtypes"
      ]
    },
    {
      "cell_type": "markdown",
      "metadata": {
        "id": "L1ZLEmHPSucO"
      },
      "source": [
        "Порахуйте, яка частка пропусків міститься в кожній колонці (використовуйте методи isnull та sum)"
      ]
    },
    {
      "cell_type": "code",
      "execution_count": 15,
      "metadata": {
        "colab": {
          "base_uri": "https://localhost:8080/"
        },
        "id": "TNY-cdr8Sxrq",
        "outputId": "9211bdfa-b8f4-409f-ce90-8770eb086b2e"
      },
      "outputs": [
        {
          "name": "stdout",
          "output_type": "stream",
          "text": [
            "Регіон    0.000000\n",
            "1950      0.071429\n",
            "1960      0.035714\n",
            "1970      0.035714\n",
            "1990      0.000000\n",
            "2000      0.000000\n",
            "2012      0.000000\n",
            "2014      0.071429\n",
            "2019      0.142857\n",
            "dtype: float64\n"
          ]
        }
      ],
      "source": [
        "isnull_data_frame = nan_data_frame.isnull().mean()\n",
        "\n",
        "print(isnull_data_frame)"
      ]
    },
    {
      "cell_type": "markdown",
      "metadata": {
        "id": "ezpu8vPfTnG8"
      },
      "source": [
        "Видаліть з таблиці дані по всій країні, останній рядок таблиці"
      ]
    },
    {
      "cell_type": "code",
      "execution_count": 32,
      "metadata": {
        "colab": {
          "base_uri": "https://localhost:8080/"
        },
        "id": "PqcyVokZTnvr",
        "outputId": "5075d1c2-655d-437e-834f-efe6e0621e26"
      },
      "outputs": [
        {
          "data": {
            "text/html": [
              "<div>\n",
              "<style scoped>\n",
              "    .dataframe tbody tr th:only-of-type {\n",
              "        vertical-align: middle;\n",
              "    }\n",
              "\n",
              "    .dataframe tbody tr th {\n",
              "        vertical-align: top;\n",
              "    }\n",
              "\n",
              "    .dataframe thead th {\n",
              "        text-align: right;\n",
              "    }\n",
              "</style>\n",
              "<table border=\"1\" class=\"dataframe\">\n",
              "  <thead>\n",
              "    <tr style=\"text-align: right;\">\n",
              "      <th></th>\n",
              "      <th>Регіон</th>\n",
              "      <th>1950</th>\n",
              "      <th>1960</th>\n",
              "      <th>1970</th>\n",
              "      <th>1990</th>\n",
              "      <th>2000</th>\n",
              "      <th>2012</th>\n",
              "      <th>2014</th>\n",
              "      <th>2019</th>\n",
              "    </tr>\n",
              "  </thead>\n",
              "  <tbody>\n",
              "    <tr>\n",
              "      <th>0</th>\n",
              "      <td>Крим</td>\n",
              "      <td>230.0</td>\n",
              "      <td>206.0</td>\n",
              "      <td>160.0</td>\n",
              "      <td>130</td>\n",
              "      <td>73</td>\n",
              "      <td>126</td>\n",
              "      <td>NaN</td>\n",
              "      <td>NaN</td>\n",
              "    </tr>\n",
              "    <tr>\n",
              "      <th>1</th>\n",
              "      <td>Вінницька</td>\n",
              "      <td>224.0</td>\n",
              "      <td>192.0</td>\n",
              "      <td>142.0</td>\n",
              "      <td>124</td>\n",
              "      <td>84</td>\n",
              "      <td>112</td>\n",
              "      <td>109.0</td>\n",
              "      <td>76.0</td>\n",
              "    </tr>\n",
              "    <tr>\n",
              "      <th>2</th>\n",
              "      <td>Волинська</td>\n",
              "      <td>247.0</td>\n",
              "      <td>250.0</td>\n",
              "      <td>179.0</td>\n",
              "      <td>153</td>\n",
              "      <td>112</td>\n",
              "      <td>148</td>\n",
              "      <td>141.0</td>\n",
              "      <td>101.0</td>\n",
              "    </tr>\n",
              "    <tr>\n",
              "      <th>3</th>\n",
              "      <td>Дніпропетровська</td>\n",
              "      <td>204.0</td>\n",
              "      <td>204.0</td>\n",
              "      <td>151.0</td>\n",
              "      <td>123</td>\n",
              "      <td>71</td>\n",
              "      <td>112</td>\n",
              "      <td>111.0</td>\n",
              "      <td>71.0</td>\n",
              "    </tr>\n",
              "    <tr>\n",
              "      <th>4</th>\n",
              "      <td>Донецька</td>\n",
              "      <td>271.0</td>\n",
              "      <td>214.0</td>\n",
              "      <td>140.0</td>\n",
              "      <td>109</td>\n",
              "      <td>61</td>\n",
              "      <td>98</td>\n",
              "      <td>82.0</td>\n",
              "      <td>NaN</td>\n",
              "    </tr>\n",
              "    <tr>\n",
              "      <th>5</th>\n",
              "      <td>Житомирська</td>\n",
              "      <td>261.0</td>\n",
              "      <td>223.0</td>\n",
              "      <td>159.0</td>\n",
              "      <td>129</td>\n",
              "      <td>89</td>\n",
              "      <td>122</td>\n",
              "      <td>120.0</td>\n",
              "      <td>79.0</td>\n",
              "    </tr>\n",
              "    <tr>\n",
              "      <th>6</th>\n",
              "      <td>Закарпатська</td>\n",
              "      <td>314.0</td>\n",
              "      <td>273.0</td>\n",
              "      <td>207.0</td>\n",
              "      <td>168</td>\n",
              "      <td>115</td>\n",
              "      <td>151</td>\n",
              "      <td>146.0</td>\n",
              "      <td>104.0</td>\n",
              "    </tr>\n",
              "    <tr>\n",
              "      <th>7</th>\n",
              "      <td>Запорізька</td>\n",
              "      <td>219.0</td>\n",
              "      <td>197.0</td>\n",
              "      <td>150.0</td>\n",
              "      <td>124</td>\n",
              "      <td>71</td>\n",
              "      <td>106</td>\n",
              "      <td>106.0</td>\n",
              "      <td>68.0</td>\n",
              "    </tr>\n",
              "    <tr>\n",
              "      <th>8</th>\n",
              "      <td>Івано-Франківська</td>\n",
              "      <td>243.0</td>\n",
              "      <td>248.0</td>\n",
              "      <td>182.0</td>\n",
              "      <td>155</td>\n",
              "      <td>103</td>\n",
              "      <td>124</td>\n",
              "      <td>122.0</td>\n",
              "      <td>88.0</td>\n",
              "    </tr>\n",
              "    <tr>\n",
              "      <th>9</th>\n",
              "      <td>Київська</td>\n",
              "      <td>204.0</td>\n",
              "      <td>189.0</td>\n",
              "      <td>156.0</td>\n",
              "      <td>123</td>\n",
              "      <td>73</td>\n",
              "      <td>122</td>\n",
              "      <td>121.0</td>\n",
              "      <td>80.0</td>\n",
              "    </tr>\n",
              "    <tr>\n",
              "      <th>10</th>\n",
              "      <td>Кіровоградська</td>\n",
              "      <td>216.0</td>\n",
              "      <td>171.0</td>\n",
              "      <td>145.0</td>\n",
              "      <td>126</td>\n",
              "      <td>79</td>\n",
              "      <td>110</td>\n",
              "      <td>108.0</td>\n",
              "      <td>68.0</td>\n",
              "    </tr>\n",
              "    <tr>\n",
              "      <th>11</th>\n",
              "      <td>Луганська</td>\n",
              "      <td>262.0</td>\n",
              "      <td>235.0</td>\n",
              "      <td>144.0</td>\n",
              "      <td>116</td>\n",
              "      <td>62</td>\n",
              "      <td>96</td>\n",
              "      <td>51.0</td>\n",
              "      <td>NaN</td>\n",
              "    </tr>\n",
              "    <tr>\n",
              "      <th>12</th>\n",
              "      <td>Львівська</td>\n",
              "      <td>234.0</td>\n",
              "      <td>240.0</td>\n",
              "      <td>171.0</td>\n",
              "      <td>140</td>\n",
              "      <td>91</td>\n",
              "      <td>119</td>\n",
              "      <td>119.0</td>\n",
              "      <td>87.0</td>\n",
              "    </tr>\n",
              "    <tr>\n",
              "      <th>13</th>\n",
              "      <td>Миколаївська</td>\n",
              "      <td>211.0</td>\n",
              "      <td>194.0</td>\n",
              "      <td>155.0</td>\n",
              "      <td>137</td>\n",
              "      <td>80</td>\n",
              "      <td>115</td>\n",
              "      <td>112.0</td>\n",
              "      <td>71.0</td>\n",
              "    </tr>\n",
              "    <tr>\n",
              "      <th>14</th>\n",
              "      <td>Одеська</td>\n",
              "      <td>241.0</td>\n",
              "      <td>192.0</td>\n",
              "      <td>148.0</td>\n",
              "      <td>126</td>\n",
              "      <td>80</td>\n",
              "      <td>127</td>\n",
              "      <td>123.0</td>\n",
              "      <td>88.0</td>\n",
              "    </tr>\n",
              "    <tr>\n",
              "      <th>15</th>\n",
              "      <td>Полтавська</td>\n",
              "      <td>186.0</td>\n",
              "      <td>163.0</td>\n",
              "      <td>131.0</td>\n",
              "      <td>118</td>\n",
              "      <td>70</td>\n",
              "      <td>99</td>\n",
              "      <td>100.0</td>\n",
              "      <td>65.0</td>\n",
              "    </tr>\n",
              "    <tr>\n",
              "      <th>16</th>\n",
              "      <td>Рівненська</td>\n",
              "      <td>269.0</td>\n",
              "      <td>267.0</td>\n",
              "      <td>193.0</td>\n",
              "      <td>158</td>\n",
              "      <td>118</td>\n",
              "      <td>159</td>\n",
              "      <td>148.0</td>\n",
              "      <td>107.0</td>\n",
              "    </tr>\n",
              "    <tr>\n",
              "      <th>17</th>\n",
              "      <td>Сумська</td>\n",
              "      <td>216.0</td>\n",
              "      <td>184.0</td>\n",
              "      <td>132.0</td>\n",
              "      <td>115</td>\n",
              "      <td>70</td>\n",
              "      <td>97</td>\n",
              "      <td>92.0</td>\n",
              "      <td>60.0</td>\n",
              "    </tr>\n",
              "    <tr>\n",
              "      <th>18</th>\n",
              "      <td>Тернопільська</td>\n",
              "      <td>213.0</td>\n",
              "      <td>216.0</td>\n",
              "      <td>157.0</td>\n",
              "      <td>142</td>\n",
              "      <td>92</td>\n",
              "      <td>113</td>\n",
              "      <td>109.0</td>\n",
              "      <td>76.0</td>\n",
              "    </tr>\n",
              "    <tr>\n",
              "      <th>19</th>\n",
              "      <td>Харківська</td>\n",
              "      <td>197.0</td>\n",
              "      <td>173.0</td>\n",
              "      <td>140.0</td>\n",
              "      <td>114</td>\n",
              "      <td>68</td>\n",
              "      <td>99</td>\n",
              "      <td>101.0</td>\n",
              "      <td>68.0</td>\n",
              "    </tr>\n",
              "    <tr>\n",
              "      <th>20</th>\n",
              "      <td>Херсонська</td>\n",
              "      <td>208.0</td>\n",
              "      <td>214.0</td>\n",
              "      <td>166.0</td>\n",
              "      <td>143</td>\n",
              "      <td>85</td>\n",
              "      <td>117</td>\n",
              "      <td>115.0</td>\n",
              "      <td>81.0</td>\n",
              "    </tr>\n",
              "    <tr>\n",
              "      <th>21</th>\n",
              "      <td>Хмельницька</td>\n",
              "      <td>234.0</td>\n",
              "      <td>198.0</td>\n",
              "      <td>148.0</td>\n",
              "      <td>129</td>\n",
              "      <td>85</td>\n",
              "      <td>113</td>\n",
              "      <td>112.0</td>\n",
              "      <td>79.0</td>\n",
              "    </tr>\n",
              "    <tr>\n",
              "      <th>22</th>\n",
              "      <td>Черкаська</td>\n",
              "      <td>205.0</td>\n",
              "      <td>179.0</td>\n",
              "      <td>144.0</td>\n",
              "      <td>123</td>\n",
              "      <td>75</td>\n",
              "      <td>100</td>\n",
              "      <td>98.0</td>\n",
              "      <td>64.0</td>\n",
              "    </tr>\n",
              "    <tr>\n",
              "      <th>23</th>\n",
              "      <td>Чернівецька</td>\n",
              "      <td>247.0</td>\n",
              "      <td>218.0</td>\n",
              "      <td>170.0</td>\n",
              "      <td>148</td>\n",
              "      <td>101</td>\n",
              "      <td>128</td>\n",
              "      <td>129.0</td>\n",
              "      <td>92.0</td>\n",
              "    </tr>\n",
              "    <tr>\n",
              "      <th>24</th>\n",
              "      <td>Чернігівська</td>\n",
              "      <td>220.0</td>\n",
              "      <td>183.0</td>\n",
              "      <td>127.0</td>\n",
              "      <td>108</td>\n",
              "      <td>69</td>\n",
              "      <td>94</td>\n",
              "      <td>90.0</td>\n",
              "      <td>61.0</td>\n",
              "    </tr>\n",
              "    <tr>\n",
              "      <th>25</th>\n",
              "      <td>Київ</td>\n",
              "      <td>NaN</td>\n",
              "      <td>174.0</td>\n",
              "      <td>159.0</td>\n",
              "      <td>120</td>\n",
              "      <td>73</td>\n",
              "      <td>120</td>\n",
              "      <td>121.0</td>\n",
              "      <td>110.0</td>\n",
              "    </tr>\n",
              "    <tr>\n",
              "      <th>26</th>\n",
              "      <td>Севастополь</td>\n",
              "      <td>NaN</td>\n",
              "      <td>NaN</td>\n",
              "      <td>NaN</td>\n",
              "      <td>125</td>\n",
              "      <td>70</td>\n",
              "      <td>120</td>\n",
              "      <td>NaN</td>\n",
              "      <td>NaN</td>\n",
              "    </tr>\n",
              "  </tbody>\n",
              "</table>\n",
              "</div>"
            ],
            "text/plain": [
              "               Регіон   1950   1960   1970  1990  2000  2012   2014   2019\n",
              "0                Крим  230.0  206.0  160.0   130    73   126    NaN    NaN\n",
              "1           Вінницька  224.0  192.0  142.0   124    84   112  109.0   76.0\n",
              "2           Волинська  247.0  250.0  179.0   153   112   148  141.0  101.0\n",
              "3    Дніпропетровська  204.0  204.0  151.0   123    71   112  111.0   71.0\n",
              "4            Донецька  271.0  214.0  140.0   109    61    98   82.0    NaN\n",
              "5         Житомирська  261.0  223.0  159.0   129    89   122  120.0   79.0\n",
              "6        Закарпатська  314.0  273.0  207.0   168   115   151  146.0  104.0\n",
              "7          Запорізька  219.0  197.0  150.0   124    71   106  106.0   68.0\n",
              "8   Івано-Франківська  243.0  248.0  182.0   155   103   124  122.0   88.0\n",
              "9            Київська  204.0  189.0  156.0   123    73   122  121.0   80.0\n",
              "10     Кіровоградська  216.0  171.0  145.0   126    79   110  108.0   68.0\n",
              "11          Луганська  262.0  235.0  144.0   116    62    96   51.0    NaN\n",
              "12          Львівська  234.0  240.0  171.0   140    91   119  119.0   87.0\n",
              "13       Миколаївська  211.0  194.0  155.0   137    80   115  112.0   71.0\n",
              "14            Одеська  241.0  192.0  148.0   126    80   127  123.0   88.0\n",
              "15         Полтавська  186.0  163.0  131.0   118    70    99  100.0   65.0\n",
              "16         Рівненська  269.0  267.0  193.0   158   118   159  148.0  107.0\n",
              "17            Сумська  216.0  184.0  132.0   115    70    97   92.0   60.0\n",
              "18      Тернопільська  213.0  216.0  157.0   142    92   113  109.0   76.0\n",
              "19         Харківська  197.0  173.0  140.0   114    68    99  101.0   68.0\n",
              "20         Херсонська  208.0  214.0  166.0   143    85   117  115.0   81.0\n",
              "21        Хмельницька  234.0  198.0  148.0   129    85   113  112.0   79.0\n",
              "22          Черкаська  205.0  179.0  144.0   123    75   100   98.0   64.0\n",
              "23        Чернівецька  247.0  218.0  170.0   148   101   128  129.0   92.0\n",
              "24       Чернігівська  220.0  183.0  127.0   108    69    94   90.0   61.0\n",
              "25               Київ    NaN  174.0  159.0   120    73   120  121.0  110.0\n",
              "26        Севастополь    NaN    NaN    NaN   125    70   120    NaN    NaN"
            ]
          },
          "execution_count": 32,
          "metadata": {},
          "output_type": "execute_result"
        }
      ],
      "source": [
        "nan_data_frame = nan_data_frame.drop(nan_data_frame.index[-1])\n",
        "nan_data_frame"
      ]
    },
    {
      "cell_type": "markdown",
      "metadata": {
        "id": "FOnyqMAfUEeE"
      },
      "source": [
        "Замініть відсутні дані в стовпцях середніми значеннями цих стовпців (метод fillna)"
      ]
    },
    {
      "cell_type": "code",
      "execution_count": 33,
      "metadata": {
        "colab": {
          "base_uri": "https://localhost:8080/"
        },
        "id": "v8Lzn5wAUIkP",
        "outputId": "f52a131f-6161-4a72-b461-62058bd42c61"
      },
      "outputs": [
        {
          "name": "stdout",
          "output_type": "stream",
          "text": [
            "1950    231.040000\n",
            "1960    207.576923\n",
            "1970    156.000000\n",
            "1990    130.592593\n",
            "2000     82.222222\n",
            "2012    116.555556\n",
            "2014    111.440000\n",
            "2019     80.173913\n",
            "dtype: float64\n"
          ]
        },
        {
          "data": {
            "text/html": [
              "<div>\n",
              "<style scoped>\n",
              "    .dataframe tbody tr th:only-of-type {\n",
              "        vertical-align: middle;\n",
              "    }\n",
              "\n",
              "    .dataframe tbody tr th {\n",
              "        vertical-align: top;\n",
              "    }\n",
              "\n",
              "    .dataframe thead th {\n",
              "        text-align: right;\n",
              "    }\n",
              "</style>\n",
              "<table border=\"1\" class=\"dataframe\">\n",
              "  <thead>\n",
              "    <tr style=\"text-align: right;\">\n",
              "      <th></th>\n",
              "      <th>Регіон</th>\n",
              "      <th>1950</th>\n",
              "      <th>1960</th>\n",
              "      <th>1970</th>\n",
              "      <th>1990</th>\n",
              "      <th>2000</th>\n",
              "      <th>2012</th>\n",
              "      <th>2014</th>\n",
              "      <th>2019</th>\n",
              "    </tr>\n",
              "  </thead>\n",
              "  <tbody>\n",
              "    <tr>\n",
              "      <th>0</th>\n",
              "      <td>Крим</td>\n",
              "      <td>230.00</td>\n",
              "      <td>206.000000</td>\n",
              "      <td>160.0</td>\n",
              "      <td>130</td>\n",
              "      <td>73</td>\n",
              "      <td>126</td>\n",
              "      <td>111.44</td>\n",
              "      <td>80.173913</td>\n",
              "    </tr>\n",
              "    <tr>\n",
              "      <th>1</th>\n",
              "      <td>Вінницька</td>\n",
              "      <td>224.00</td>\n",
              "      <td>192.000000</td>\n",
              "      <td>142.0</td>\n",
              "      <td>124</td>\n",
              "      <td>84</td>\n",
              "      <td>112</td>\n",
              "      <td>109.00</td>\n",
              "      <td>76.000000</td>\n",
              "    </tr>\n",
              "    <tr>\n",
              "      <th>2</th>\n",
              "      <td>Волинська</td>\n",
              "      <td>247.00</td>\n",
              "      <td>250.000000</td>\n",
              "      <td>179.0</td>\n",
              "      <td>153</td>\n",
              "      <td>112</td>\n",
              "      <td>148</td>\n",
              "      <td>141.00</td>\n",
              "      <td>101.000000</td>\n",
              "    </tr>\n",
              "    <tr>\n",
              "      <th>3</th>\n",
              "      <td>Дніпропетровська</td>\n",
              "      <td>204.00</td>\n",
              "      <td>204.000000</td>\n",
              "      <td>151.0</td>\n",
              "      <td>123</td>\n",
              "      <td>71</td>\n",
              "      <td>112</td>\n",
              "      <td>111.00</td>\n",
              "      <td>71.000000</td>\n",
              "    </tr>\n",
              "    <tr>\n",
              "      <th>4</th>\n",
              "      <td>Донецька</td>\n",
              "      <td>271.00</td>\n",
              "      <td>214.000000</td>\n",
              "      <td>140.0</td>\n",
              "      <td>109</td>\n",
              "      <td>61</td>\n",
              "      <td>98</td>\n",
              "      <td>82.00</td>\n",
              "      <td>80.173913</td>\n",
              "    </tr>\n",
              "    <tr>\n",
              "      <th>5</th>\n",
              "      <td>Житомирська</td>\n",
              "      <td>261.00</td>\n",
              "      <td>223.000000</td>\n",
              "      <td>159.0</td>\n",
              "      <td>129</td>\n",
              "      <td>89</td>\n",
              "      <td>122</td>\n",
              "      <td>120.00</td>\n",
              "      <td>79.000000</td>\n",
              "    </tr>\n",
              "    <tr>\n",
              "      <th>6</th>\n",
              "      <td>Закарпатська</td>\n",
              "      <td>314.00</td>\n",
              "      <td>273.000000</td>\n",
              "      <td>207.0</td>\n",
              "      <td>168</td>\n",
              "      <td>115</td>\n",
              "      <td>151</td>\n",
              "      <td>146.00</td>\n",
              "      <td>104.000000</td>\n",
              "    </tr>\n",
              "    <tr>\n",
              "      <th>7</th>\n",
              "      <td>Запорізька</td>\n",
              "      <td>219.00</td>\n",
              "      <td>197.000000</td>\n",
              "      <td>150.0</td>\n",
              "      <td>124</td>\n",
              "      <td>71</td>\n",
              "      <td>106</td>\n",
              "      <td>106.00</td>\n",
              "      <td>68.000000</td>\n",
              "    </tr>\n",
              "    <tr>\n",
              "      <th>8</th>\n",
              "      <td>Івано-Франківська</td>\n",
              "      <td>243.00</td>\n",
              "      <td>248.000000</td>\n",
              "      <td>182.0</td>\n",
              "      <td>155</td>\n",
              "      <td>103</td>\n",
              "      <td>124</td>\n",
              "      <td>122.00</td>\n",
              "      <td>88.000000</td>\n",
              "    </tr>\n",
              "    <tr>\n",
              "      <th>9</th>\n",
              "      <td>Київська</td>\n",
              "      <td>204.00</td>\n",
              "      <td>189.000000</td>\n",
              "      <td>156.0</td>\n",
              "      <td>123</td>\n",
              "      <td>73</td>\n",
              "      <td>122</td>\n",
              "      <td>121.00</td>\n",
              "      <td>80.000000</td>\n",
              "    </tr>\n",
              "    <tr>\n",
              "      <th>10</th>\n",
              "      <td>Кіровоградська</td>\n",
              "      <td>216.00</td>\n",
              "      <td>171.000000</td>\n",
              "      <td>145.0</td>\n",
              "      <td>126</td>\n",
              "      <td>79</td>\n",
              "      <td>110</td>\n",
              "      <td>108.00</td>\n",
              "      <td>68.000000</td>\n",
              "    </tr>\n",
              "    <tr>\n",
              "      <th>11</th>\n",
              "      <td>Луганська</td>\n",
              "      <td>262.00</td>\n",
              "      <td>235.000000</td>\n",
              "      <td>144.0</td>\n",
              "      <td>116</td>\n",
              "      <td>62</td>\n",
              "      <td>96</td>\n",
              "      <td>51.00</td>\n",
              "      <td>80.173913</td>\n",
              "    </tr>\n",
              "    <tr>\n",
              "      <th>12</th>\n",
              "      <td>Львівська</td>\n",
              "      <td>234.00</td>\n",
              "      <td>240.000000</td>\n",
              "      <td>171.0</td>\n",
              "      <td>140</td>\n",
              "      <td>91</td>\n",
              "      <td>119</td>\n",
              "      <td>119.00</td>\n",
              "      <td>87.000000</td>\n",
              "    </tr>\n",
              "    <tr>\n",
              "      <th>13</th>\n",
              "      <td>Миколаївська</td>\n",
              "      <td>211.00</td>\n",
              "      <td>194.000000</td>\n",
              "      <td>155.0</td>\n",
              "      <td>137</td>\n",
              "      <td>80</td>\n",
              "      <td>115</td>\n",
              "      <td>112.00</td>\n",
              "      <td>71.000000</td>\n",
              "    </tr>\n",
              "    <tr>\n",
              "      <th>14</th>\n",
              "      <td>Одеська</td>\n",
              "      <td>241.00</td>\n",
              "      <td>192.000000</td>\n",
              "      <td>148.0</td>\n",
              "      <td>126</td>\n",
              "      <td>80</td>\n",
              "      <td>127</td>\n",
              "      <td>123.00</td>\n",
              "      <td>88.000000</td>\n",
              "    </tr>\n",
              "    <tr>\n",
              "      <th>15</th>\n",
              "      <td>Полтавська</td>\n",
              "      <td>186.00</td>\n",
              "      <td>163.000000</td>\n",
              "      <td>131.0</td>\n",
              "      <td>118</td>\n",
              "      <td>70</td>\n",
              "      <td>99</td>\n",
              "      <td>100.00</td>\n",
              "      <td>65.000000</td>\n",
              "    </tr>\n",
              "    <tr>\n",
              "      <th>16</th>\n",
              "      <td>Рівненська</td>\n",
              "      <td>269.00</td>\n",
              "      <td>267.000000</td>\n",
              "      <td>193.0</td>\n",
              "      <td>158</td>\n",
              "      <td>118</td>\n",
              "      <td>159</td>\n",
              "      <td>148.00</td>\n",
              "      <td>107.000000</td>\n",
              "    </tr>\n",
              "    <tr>\n",
              "      <th>17</th>\n",
              "      <td>Сумська</td>\n",
              "      <td>216.00</td>\n",
              "      <td>184.000000</td>\n",
              "      <td>132.0</td>\n",
              "      <td>115</td>\n",
              "      <td>70</td>\n",
              "      <td>97</td>\n",
              "      <td>92.00</td>\n",
              "      <td>60.000000</td>\n",
              "    </tr>\n",
              "    <tr>\n",
              "      <th>18</th>\n",
              "      <td>Тернопільська</td>\n",
              "      <td>213.00</td>\n",
              "      <td>216.000000</td>\n",
              "      <td>157.0</td>\n",
              "      <td>142</td>\n",
              "      <td>92</td>\n",
              "      <td>113</td>\n",
              "      <td>109.00</td>\n",
              "      <td>76.000000</td>\n",
              "    </tr>\n",
              "    <tr>\n",
              "      <th>19</th>\n",
              "      <td>Харківська</td>\n",
              "      <td>197.00</td>\n",
              "      <td>173.000000</td>\n",
              "      <td>140.0</td>\n",
              "      <td>114</td>\n",
              "      <td>68</td>\n",
              "      <td>99</td>\n",
              "      <td>101.00</td>\n",
              "      <td>68.000000</td>\n",
              "    </tr>\n",
              "    <tr>\n",
              "      <th>20</th>\n",
              "      <td>Херсонська</td>\n",
              "      <td>208.00</td>\n",
              "      <td>214.000000</td>\n",
              "      <td>166.0</td>\n",
              "      <td>143</td>\n",
              "      <td>85</td>\n",
              "      <td>117</td>\n",
              "      <td>115.00</td>\n",
              "      <td>81.000000</td>\n",
              "    </tr>\n",
              "    <tr>\n",
              "      <th>21</th>\n",
              "      <td>Хмельницька</td>\n",
              "      <td>234.00</td>\n",
              "      <td>198.000000</td>\n",
              "      <td>148.0</td>\n",
              "      <td>129</td>\n",
              "      <td>85</td>\n",
              "      <td>113</td>\n",
              "      <td>112.00</td>\n",
              "      <td>79.000000</td>\n",
              "    </tr>\n",
              "    <tr>\n",
              "      <th>22</th>\n",
              "      <td>Черкаська</td>\n",
              "      <td>205.00</td>\n",
              "      <td>179.000000</td>\n",
              "      <td>144.0</td>\n",
              "      <td>123</td>\n",
              "      <td>75</td>\n",
              "      <td>100</td>\n",
              "      <td>98.00</td>\n",
              "      <td>64.000000</td>\n",
              "    </tr>\n",
              "    <tr>\n",
              "      <th>23</th>\n",
              "      <td>Чернівецька</td>\n",
              "      <td>247.00</td>\n",
              "      <td>218.000000</td>\n",
              "      <td>170.0</td>\n",
              "      <td>148</td>\n",
              "      <td>101</td>\n",
              "      <td>128</td>\n",
              "      <td>129.00</td>\n",
              "      <td>92.000000</td>\n",
              "    </tr>\n",
              "    <tr>\n",
              "      <th>24</th>\n",
              "      <td>Чернігівська</td>\n",
              "      <td>220.00</td>\n",
              "      <td>183.000000</td>\n",
              "      <td>127.0</td>\n",
              "      <td>108</td>\n",
              "      <td>69</td>\n",
              "      <td>94</td>\n",
              "      <td>90.00</td>\n",
              "      <td>61.000000</td>\n",
              "    </tr>\n",
              "    <tr>\n",
              "      <th>25</th>\n",
              "      <td>Київ</td>\n",
              "      <td>231.04</td>\n",
              "      <td>174.000000</td>\n",
              "      <td>159.0</td>\n",
              "      <td>120</td>\n",
              "      <td>73</td>\n",
              "      <td>120</td>\n",
              "      <td>121.00</td>\n",
              "      <td>110.000000</td>\n",
              "    </tr>\n",
              "    <tr>\n",
              "      <th>26</th>\n",
              "      <td>Севастополь</td>\n",
              "      <td>231.04</td>\n",
              "      <td>207.576923</td>\n",
              "      <td>156.0</td>\n",
              "      <td>125</td>\n",
              "      <td>70</td>\n",
              "      <td>120</td>\n",
              "      <td>111.44</td>\n",
              "      <td>80.173913</td>\n",
              "    </tr>\n",
              "  </tbody>\n",
              "</table>\n",
              "</div>"
            ],
            "text/plain": [
              "               Регіон    1950        1960   1970  1990  2000  2012    2014  \\\n",
              "0                Крим  230.00  206.000000  160.0   130    73   126  111.44   \n",
              "1           Вінницька  224.00  192.000000  142.0   124    84   112  109.00   \n",
              "2           Волинська  247.00  250.000000  179.0   153   112   148  141.00   \n",
              "3    Дніпропетровська  204.00  204.000000  151.0   123    71   112  111.00   \n",
              "4            Донецька  271.00  214.000000  140.0   109    61    98   82.00   \n",
              "5         Житомирська  261.00  223.000000  159.0   129    89   122  120.00   \n",
              "6        Закарпатська  314.00  273.000000  207.0   168   115   151  146.00   \n",
              "7          Запорізька  219.00  197.000000  150.0   124    71   106  106.00   \n",
              "8   Івано-Франківська  243.00  248.000000  182.0   155   103   124  122.00   \n",
              "9            Київська  204.00  189.000000  156.0   123    73   122  121.00   \n",
              "10     Кіровоградська  216.00  171.000000  145.0   126    79   110  108.00   \n",
              "11          Луганська  262.00  235.000000  144.0   116    62    96   51.00   \n",
              "12          Львівська  234.00  240.000000  171.0   140    91   119  119.00   \n",
              "13       Миколаївська  211.00  194.000000  155.0   137    80   115  112.00   \n",
              "14            Одеська  241.00  192.000000  148.0   126    80   127  123.00   \n",
              "15         Полтавська  186.00  163.000000  131.0   118    70    99  100.00   \n",
              "16         Рівненська  269.00  267.000000  193.0   158   118   159  148.00   \n",
              "17            Сумська  216.00  184.000000  132.0   115    70    97   92.00   \n",
              "18      Тернопільська  213.00  216.000000  157.0   142    92   113  109.00   \n",
              "19         Харківська  197.00  173.000000  140.0   114    68    99  101.00   \n",
              "20         Херсонська  208.00  214.000000  166.0   143    85   117  115.00   \n",
              "21        Хмельницька  234.00  198.000000  148.0   129    85   113  112.00   \n",
              "22          Черкаська  205.00  179.000000  144.0   123    75   100   98.00   \n",
              "23        Чернівецька  247.00  218.000000  170.0   148   101   128  129.00   \n",
              "24       Чернігівська  220.00  183.000000  127.0   108    69    94   90.00   \n",
              "25               Київ  231.04  174.000000  159.0   120    73   120  121.00   \n",
              "26        Севастополь  231.04  207.576923  156.0   125    70   120  111.44   \n",
              "\n",
              "          2019  \n",
              "0    80.173913  \n",
              "1    76.000000  \n",
              "2   101.000000  \n",
              "3    71.000000  \n",
              "4    80.173913  \n",
              "5    79.000000  \n",
              "6   104.000000  \n",
              "7    68.000000  \n",
              "8    88.000000  \n",
              "9    80.000000  \n",
              "10   68.000000  \n",
              "11   80.173913  \n",
              "12   87.000000  \n",
              "13   71.000000  \n",
              "14   88.000000  \n",
              "15   65.000000  \n",
              "16  107.000000  \n",
              "17   60.000000  \n",
              "18   76.000000  \n",
              "19   68.000000  \n",
              "20   81.000000  \n",
              "21   79.000000  \n",
              "22   64.000000  \n",
              "23   92.000000  \n",
              "24   61.000000  \n",
              "25  110.000000  \n",
              "26   80.173913  "
            ]
          },
          "execution_count": 33,
          "metadata": {},
          "output_type": "execute_result"
        }
      ],
      "source": [
        "means = nan_data_frame.mean(axis=0, numeric_only=True)\n",
        "print(means)\n",
        "fillna_nan_data_frame = nan_data_frame.fillna(means)\n",
        "fillna_nan_data_frame\n"
      ]
    },
    {
      "cell_type": "markdown",
      "metadata": {
        "id": "xhDKoXHrY7si"
      },
      "source": [
        "Отримайте список регіонів, де рівень народжуваності у 2019 році був вищим за середній по Україні"
      ]
    },
    {
      "cell_type": "code",
      "execution_count": 26,
      "metadata": {
        "colab": {
          "base_uri": "https://localhost:8080/"
        },
        "id": "aATlF6khY-9b",
        "outputId": "bcef55c0-9bdc-42b6-e069-df7cca58101d"
      },
      "outputs": [
        {
          "name": "stdout",
          "output_type": "stream",
          "text": [
            "['Волинська', 'Закарпатська', 'Івано-Франківська', 'Львівська', 'Одеська', 'Рівненська', 'Херсонська', 'Чернівецька', 'Київ', 'Україна']\n"
          ]
        }
      ],
      "source": [
        "avarage_data = fillna_nan_data_frame['2019'].mean()\n",
        "per_avarage_data = fillna_nan_data_frame[fillna_nan_data_frame['2019'] > avarage_data]['Регіон'].tolist()\n",
        "print(per_avarage_data)"
      ]
    },
    {
      "cell_type": "markdown",
      "metadata": {
        "id": "RwPX77_baqm6"
      },
      "source": [
        "У якому регіоні була найвища народжуваність у 2014 році?"
      ]
    },
    {
      "cell_type": "code",
      "execution_count": 28,
      "metadata": {
        "colab": {
          "base_uri": "https://localhost:8080/"
        },
        "id": "LHESEzddatnM",
        "outputId": "23c4305c-d561-45dd-ab00-c43cf69f58e0"
      },
      "outputs": [
        {
          "data": {
            "text/plain": [
              "'Рівненська'"
            ]
          },
          "execution_count": 28,
          "metadata": {},
          "output_type": "execute_result"
        }
      ],
      "source": [
        "max_data_2014 = fillna_nan_data_frame['2014'].max()\n",
        "max_region_2014 = fillna_nan_data_frame[fillna_nan_data_frame['2014'] == max_data_2014]['Регіон'].iloc[0]\n",
        "max_region_2014"
      ]
    },
    {
      "cell_type": "markdown",
      "metadata": {
        "id": "q8zGDbPzbQBd"
      },
      "source": [
        "Побудуйте стовпчикову діаграму народжуваності по регіонах у 2019 році"
      ]
    },
    {
      "cell_type": "code",
      "execution_count": 34,
      "metadata": {
        "colab": {
          "base_uri": "https://localhost:8080/",
          "height": 487
        },
        "id": "C9Lr0RiJbSR_",
        "outputId": "e8619d15-8acf-4789-f17a-66fb817bd5b8"
      },
      "outputs": [
        {
          "data": {
            "image/png": "[encoded data removed]",
            "text/plain": [
              "<Figure size 640x480 with 1 Axes>"
            ]
          },
          "metadata": {},
          "output_type": "display_data"
        }
      ],
      "source": [
        "import matplotlib.pyplot as plt\n",
        "\n",
        "plt.bar(fillna_nan_data_frame['Регіон'], fillna_nan_data_frame['2019'], width = 0.75)\n",
        "plt.xlabel('Регіон', fontsize=\"small\")\n",
        "plt.ylabel('Рівень народжуваності у 2019 році', fontsize=\"small\")\n",
        "plt.title('Народжуваність по регіонах у 2019 році')\n",
        "plt.xticks(rotation=90, ha='right')\n",
        "plt.tight_layout()\n",
        "plt.show()"
      ]
    },
    {
      "cell_type": "code",
      "execution_count": 35,
      "metadata": {},
      "outputs": [
        {
          "data": {
            "text/plain": [
              "Text(0.5, 1.0, 'Fertility chart 1960')"
            ]
          },
          "execution_count": 35,
          "metadata": {},
          "output_type": "execute_result"
        },
        {
          "data": {
            "image/png": "[encoded data removed]",
            "text/plain": [
              "<Figure size 640x480 with 1 Axes>"
            ]
          },
          "metadata": {},
          "output_type": "display_data"
        }
      ],
      "source": [
        "import seaborn as sns\n",
        "\n",
        "sns.lineplot(x=fillna_nan_data_frame.index, y='1960', data=fillna_nan_data_frame, marker='o', color='purple')\n",
        "plt.title('Fertility chart 1960')"
      ]
    },
    {
      "cell_type": "code",
      "execution_count": 36,
      "metadata": {},
      "outputs": [
        {
          "data": {
            "text/plain": [
              "<Axes: xlabel='Регіон', ylabel='2000'>"
            ]
          },
          "execution_count": 36,
          "metadata": {},
          "output_type": "execute_result"
        },
        {
          "data": {
            "image/png": "[encoded data removed]",
            "text/plain": [
              "<Figure size 640x480 with 1 Axes>"
            ]
          },
          "metadata": {},
          "output_type": "display_data"
        }
      ],
      "source": [
        "sns.scatterplot(x='Регіон', y='2000', data=fillna_nan_data_frame)"
      ]
    }
  ],
  "metadata": {
    "colab": {
      "authorship_tag": "ABX9TyMaKG+kKISOWc0smrXFOqUe",
      "include_colab_link": true,
      "provenance": []
    },
    "kernelspec": {
      "display_name": "Python 3",
      "name": "python3"
    },
    "language_info": {
      "codemirror_mode": {
        "name": "ipython",
        "version": 3
      },
      "file_extension": ".py",
      "mimetype": "text/x-python",
      "name": "python",
      "nbconvert_exporter": "python",
      "pygments_lexer": "ipython3",
      "version": "3.11.0rc1"
    }
  },
  "nbformat": 4,
  "nbformat_minor": 0
}
