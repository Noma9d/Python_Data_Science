{
  "nbformat": 4,
  "nbformat_minor": 0,
  "metadata": {
    "colab": {
      "provenance": [],
      "authorship_tag": "ABX9TyMFGR7aHC33yVg1a0cBVyAL",
      "include_colab_link": true
    },
    "kernelspec": {
      "name": "python3",
      "display_name": "Python 3"
    },
    "language_info": {
      "name": "python"
    }
  },
  "cells": [
    {
      "cell_type": "markdown",
      "metadata": {
        "id": "view-in-github",
        "colab_type": "text"
      },
      "source": [
        "<a href=\"https://colab.research.google.com/github/Noma9d/Python_Data_Science/blob/main/Hw_1.ipynb\" target=\"_parent\"><img src=\"https://colab.research.google.com/assets/colab-badge.svg\" alt=\"Open In Colab\"/></a>"
      ]
    },
    {
      "cell_type": "markdown",
      "source": [
        "Створіть одновимірний масив (вектор) з першими 10-ма натуральними числами та виведіть його значення."
      ],
      "metadata": {
        "id": "6wIh4QeDrFZW"
      }
    },
    {
      "cell_type": "code",
      "execution_count": null,
      "metadata": {
        "colab": {
          "base_uri": "https://localhost:8080/"
        },
        "id": "OzMJcz-n6D1U",
        "outputId": "362cf733-1803-4016-afb8-a6a51b9675ee"
      },
      "outputs": [
        {
          "output_type": "stream",
          "name": "stdout",
          "text": [
            "[ 1  2  3  4  5  6  7  8  9 10]\n"
          ]
        }
      ],
      "source": [
        "import numpy as np\n",
        "a = np.arange(1, 11)\n",
        "print(a)"
      ]
    },
    {
      "cell_type": "markdown",
      "source": [
        "Створіть двовимірний масив (матрицю) розміром 3x3, заповніть його нулями та виведіть його значення."
      ],
      "metadata": {
        "id": "RHbIXHj3ru_Z"
      }
    },
    {
      "cell_type": "code",
      "source": [
        "zero_matrix = np.zeros((3, 3))\n",
        "print(zero_matrix)"
      ],
      "metadata": {
        "colab": {
          "base_uri": "https://localhost:8080/"
        },
        "id": "3vIPyjpJrx99",
        "outputId": "7203f1ac-20ec-4939-a48e-c62276ffc4bb"
      },
      "execution_count": null,
      "outputs": [
        {
          "output_type": "stream",
          "name": "stdout",
          "text": [
            "[[0. 0. 0.]\n",
            " [0. 0. 0.]\n",
            " [0. 0. 0.]]\n"
          ]
        }
      ]
    },
    {
      "cell_type": "markdown",
      "source": [
        "Створіть масив розміром 5x5, заповніть його випадковими цілими числами в діапазоні від 1 до 10 та виведіть його значення."
      ],
      "metadata": {
        "id": "38VIO-ANtPGL"
      }
    },
    {
      "cell_type": "code",
      "source": [
        "random_matrix = np.random.randint(1, 11, size=(5, 5))\n",
        "print(random_matrix)"
      ],
      "metadata": {
        "colab": {
          "base_uri": "https://localhost:8080/"
        },
        "id": "kMLccYEUtTIo",
        "outputId": "b13961fa-4202-40fd-bb1f-bfef9b0d5d4f"
      },
      "execution_count": null,
      "outputs": [
        {
          "output_type": "stream",
          "name": "stdout",
          "text": [
            "[[ 6  2  8  1  5]\n",
            " [ 1  6 10  1  2]\n",
            " [10  2  6  3  1]\n",
            " [ 9 10  8  6  8]\n",
            " [ 3  4  5  2  5]]\n"
          ]
        }
      ]
    },
    {
      "cell_type": "markdown",
      "source": [
        "Створіть масив розміром 4x4, заповніть його випадковими дійсними числами в діапазоні від 0 до 1 та виведіть його значення."
      ],
      "metadata": {
        "id": "HbK8qTzZtsBt"
      }
    },
    {
      "cell_type": "code",
      "source": [
        "zero_to_one_random_matrix = np.random.rand(4, 4)\n",
        "print(zero_to_one_random_matrix)"
      ],
      "metadata": {
        "colab": {
          "base_uri": "https://localhost:8080/"
        },
        "id": "3k5kPDyqtxRo",
        "outputId": "7e21f830-562d-4f2f-fb48-c00ce4193651"
      },
      "execution_count": null,
      "outputs": [
        {
          "output_type": "stream",
          "name": "stdout",
          "text": [
            "[[0.53418987 0.23603448 0.0045276  0.64193543]\n",
            " [0.35993894 0.69539984 0.75562775 0.62554269]\n",
            " [0.7472758  0.30028733 0.48292094 0.89618091]\n",
            " [0.0121684  0.59742635 0.88575877 0.70719907]]\n"
          ]
        }
      ]
    },
    {
      "cell_type": "markdown",
      "source": [
        "Створіть два одновимірних масиви розміром 5, заповніть їх випадковими цілими числами в діапазоні від 1 до 10 та виконайте на них поелементні операції додавання, віднімання та множення.\n",
        "\n"
      ],
      "metadata": {
        "id": "RND1baHJwcvf"
      }
    },
    {
      "cell_type": "code",
      "source": [
        "first_matrix = np.random.randint(1, 11, size=5)\n",
        "second_matrix = np.random.randint(1, 11, size=5)\n",
        "\n",
        "res_add = first_matrix + second_matrix\n",
        "res_sub = first_matrix - second_matrix\n",
        "res_mul = first_matrix * second_matrix\n",
        "\n",
        "print('first_matrix:',first_matrix)\n",
        "print('second_matrix:',second_matrix)\n",
        "\n",
        "print('res_add:',res_add)\n",
        "print('res_sub:',res_sub)\n",
        "print('res_mul:',res_mul)"
      ],
      "metadata": {
        "colab": {
          "base_uri": "https://localhost:8080/"
        },
        "id": "1zcG37NlwpUD",
        "outputId": "28969b66-9afd-416f-ba72-f9f7fac324b3"
      },
      "execution_count": null,
      "outputs": [
        {
          "output_type": "stream",
          "name": "stdout",
          "text": [
            "first_matrix: [5 9 4 3 7]\n",
            "second_matrix: [3 8 9 7 4]\n",
            "res_add: [ 8 17 13 10 11]\n",
            "res_sub: [ 2  1 -5 -4  3]\n",
            "res_mul: [15 72 36 21 28]\n"
          ]
        }
      ]
    },
    {
      "cell_type": "markdown",
      "source": [
        "Створіть два вектори розміром 7, заповніть довільними числами та знайдіть їх скалярний добуток."
      ],
      "metadata": {
        "id": "xCDdeagOxwFe"
      }
    },
    {
      "cell_type": "code",
      "source": [
        "vector1 = np.array([1, 2, 3, 4, 5, 6, 7])\n",
        "vector2 = np.array([8, 9, 10, 11, 12, 13, 14])\n",
        "\n",
        "print(\"Вектор 1:\", vector1)\n",
        "print(\"Вектор 2:\", vector2)\n",
        "scalar_product = np.dot(vector1, vector2)\n",
        "print('scalar_product:', scalar_product)"
      ],
      "metadata": {
        "colab": {
          "base_uri": "https://localhost:8080/"
        },
        "id": "vXnDsOCLxwv9",
        "outputId": "7ba8e70c-fc63-4069-eb2a-071f8f520bce"
      },
      "execution_count": null,
      "outputs": [
        {
          "output_type": "stream",
          "name": "stdout",
          "text": [
            "Вектор 1: [1 2 3 4 5 6 7]\n",
            "Вектор 2: [ 8  9 10 11 12 13 14]\n",
            "scalar_product: 336\n"
          ]
        }
      ]
    },
    {
      "cell_type": "markdown",
      "source": [
        "Створіть дві матриці розміром 2x2 та 2x3, заповніть їх випадковими цілими числами в діапазоні від 1 до 10 та перемножте їх між собою."
      ],
      "metadata": {
        "id": "TTxzawqUy39i"
      }
    },
    {
      "cell_type": "code",
      "source": [
        "matrix1 = np.random.randint(1, 11, size=(2, 2))\n",
        "matrix2 = np.random.randint(1, 11, size=(2, 3))\n",
        "\n",
        "print(\"Матриця 1:\")\n",
        "print(matrix1)\n",
        "print(\"Матриця 2:\")\n",
        "print(matrix2)\n",
        "\n",
        "result = np.dot(matrix1, matrix2)\n",
        "print(\"Результат перемноження матриць:\")\n",
        "print(result)"
      ],
      "metadata": {
        "colab": {
          "base_uri": "https://localhost:8080/"
        },
        "id": "rnvlsPLpy6S8",
        "outputId": "540d53f4-3459-4ac3-deb5-0812ea551015"
      },
      "execution_count": null,
      "outputs": [
        {
          "output_type": "stream",
          "name": "stdout",
          "text": [
            "Матриця 1:\n",
            "[[6 4]\n",
            " [4 2]]\n",
            "Матриця 2:\n",
            "[[ 8 10  7]\n",
            " [ 9  6  8]]\n",
            "Результат перемноження матриць:\n",
            "[[84 84 74]\n",
            " [50 52 44]]\n"
          ]
        }
      ]
    },
    {
      "cell_type": "markdown",
      "source": [
        "Створіть матрицю розміром 3x3, заповніть її випадковими цілими числами в діапазоні від 1 до 10 та знайдіть її обернену матрицю."
      ],
      "metadata": {
        "id": "D3-k9_p2zUlQ"
      }
    },
    {
      "cell_type": "code",
      "source": [
        "matrix = np.random.randint(1, 11, size=(3, 3))\n",
        "\n",
        "print(\"Матриця:\")\n",
        "print(matrix)\n",
        "inverse_matrix = np.linalg.inv(matrix)\n",
        "\n",
        "print(\"Обернена матриця:\")\n",
        "print(inverse_matrix)"
      ],
      "metadata": {
        "colab": {
          "base_uri": "https://localhost:8080/"
        },
        "id": "n7QoF5-MzXee",
        "outputId": "e7c7f35e-e8c0-4c4d-a4c0-2860068a99e3"
      },
      "execution_count": null,
      "outputs": [
        {
          "output_type": "stream",
          "name": "stdout",
          "text": [
            "Матриця:\n",
            "[[ 7  4  3]\n",
            " [10  2  4]\n",
            " [ 5  1  7]]\n",
            "Обернена матриця:\n",
            "[[-0.07692308  0.19230769 -0.07692308]\n",
            " [ 0.38461538 -0.26153846 -0.01538462]\n",
            " [ 0.         -0.1         0.2       ]]\n"
          ]
        }
      ]
    },
    {
      "cell_type": "markdown",
      "source": [
        "Створіть матрицю розміром 4x4, заповніть її випадковими дійсними числами в діапазоні від 0 до 1 та транспонуйте її."
      ],
      "metadata": {
        "id": "k_SdqTzdzujt"
      }
    },
    {
      "cell_type": "code",
      "source": [
        "matrix = np.random.rand(4, 4)\n",
        "\n",
        "print(\"Матриця:\")\n",
        "print(matrix)\n",
        "\n",
        "transposed_matrix = np.transpose(matrix)\n",
        "\n",
        "print(\"Транспонована матриця:\")\n",
        "print(transposed_matrix)"
      ],
      "metadata": {
        "colab": {
          "base_uri": "https://localhost:8080/"
        },
        "id": "S4Tb6v8wzvOV",
        "outputId": "53bd9156-41a0-4912-c923-e3b70d9fb0b8"
      },
      "execution_count": null,
      "outputs": [
        {
          "output_type": "stream",
          "name": "stdout",
          "text": [
            "Матриця:\n",
            "[[0.61314267 0.57673974 0.06875511 0.40347165]\n",
            " [0.62265303 0.48977848 0.46560409 0.14365297]\n",
            " [0.77825118 0.14767831 0.09644416 0.32646552]\n",
            " [0.64648268 0.32129656 0.31562741 0.96593364]]\n",
            "Транспонована матриця:\n",
            "[[0.61314267 0.62265303 0.77825118 0.64648268]\n",
            " [0.57673974 0.48977848 0.14767831 0.32129656]\n",
            " [0.06875511 0.46560409 0.09644416 0.31562741]\n",
            " [0.40347165 0.14365297 0.32646552 0.96593364]]\n"
          ]
        }
      ]
    },
    {
      "cell_type": "markdown",
      "source": [
        "Створіть матрицю розміром 3x4 та вектор розміром 4, заповніть їх випадковими цілими числами в діапазоні від 1 до 10 та перемножте матрицю на вектор."
      ],
      "metadata": {
        "id": "j1uOk3-50BpG"
      }
    },
    {
      "cell_type": "code",
      "source": [
        "matrix = np.random.randint(1, 11, size=(3, 4))\n",
        "vector = np.random.randint(1, 11, size=4)\n",
        "\n",
        "print(\"Матриця:\")\n",
        "print(matrix)\n",
        "print(\"Вектор:\")\n",
        "print(vector)\n",
        "\n",
        "result = np.dot(matrix, vector)\n",
        "\n",
        "print(\"Результат перемноження матриці на вектор:\")\n",
        "print(result)"
      ],
      "metadata": {
        "colab": {
          "base_uri": "https://localhost:8080/"
        },
        "id": "N_cbsxzo0CPn",
        "outputId": "863df2d7-ef4f-4e22-c123-979061d87148"
      },
      "execution_count": null,
      "outputs": [
        {
          "output_type": "stream",
          "name": "stdout",
          "text": [
            "Матриця:\n",
            "[[8 9 7 2]\n",
            " [9 8 3 2]\n",
            " [4 2 6 9]]\n",
            "Вектор:\n",
            "[8 6 3 3]\n",
            "Результат перемноження матриці на вектор:\n",
            "[145 135  89]\n"
          ]
        }
      ]
    },
    {
      "cell_type": "markdown",
      "source": [
        "Створіть матрицю розміром 2x3 та вектор розміром 3, заповніть їх випадковими дійсними числами в діапазоні від 0 до 1 та перемножте матрицю на вектор."
      ],
      "metadata": {
        "id": "ermkiwRS0TBp"
      }
    },
    {
      "cell_type": "code",
      "source": [
        "matrix = np.random.rand(2, 3)\n",
        "vector = np.random.rand(3)\n",
        "\n",
        "print(\"Матриця:\")\n",
        "print(matrix)\n",
        "print(\"Вектор:\")\n",
        "print(vector)\n",
        "\n",
        "result = np.dot(matrix, vector)\n",
        "\n",
        "print(\"Результат перемноження матриці на вектор:\")\n",
        "print(result)"
      ],
      "metadata": {
        "colab": {
          "base_uri": "https://localhost:8080/"
        },
        "id": "FwCkB03r0V14",
        "outputId": "b2ba06b3-1eeb-4bc8-f59c-5221588315c9"
      },
      "execution_count": null,
      "outputs": [
        {
          "output_type": "stream",
          "name": "stdout",
          "text": [
            "Матриця:\n",
            "[[0.54118999 0.28489483 0.45729466]\n",
            " [0.88379284 0.02788566 0.46755265]]\n",
            "Вектор:\n",
            "[0.08929793 0.65498872 0.17663185]\n",
            "Результат перемноження матриці на вектор:\n",
            "[0.31570285 0.17977034]\n"
          ]
        }
      ]
    },
    {
      "cell_type": "markdown",
      "source": [
        "Створіть дві матриці розміром 2x2, заповніть їх випадковими цілими числами в діапазоні від 1 до 10 та виконайте їхнє поелементне множення."
      ],
      "metadata": {
        "id": "fL50_0EH0iyU"
      }
    },
    {
      "cell_type": "code",
      "source": [
        "matrix1 = np.random.randint(1, 11, size=(2, 2))\n",
        "matrix2 = np.random.randint(1, 11, size=(2, 2))\n",
        "\n",
        "print(\"Матриця 1:\")\n",
        "print(matrix1)\n",
        "print(\"Матриця 2:\")\n",
        "print(matrix2)\n",
        "\n",
        "result = matrix1 * matrix2\n",
        "\n",
        "print(\"Результат поелементного множення матриць:\")\n",
        "print(result)"
      ],
      "metadata": {
        "colab": {
          "base_uri": "https://localhost:8080/"
        },
        "id": "Z7p0U6wK0jaH",
        "outputId": "3fff460b-b315-48e6-e4b2-dacf3508dc6e"
      },
      "execution_count": null,
      "outputs": [
        {
          "output_type": "stream",
          "name": "stdout",
          "text": [
            "Матриця 1:\n",
            "[[10  8]\n",
            " [ 3  1]]\n",
            "Матриця 2:\n",
            "[[10  4]\n",
            " [ 4  6]]\n",
            "Результат поелементного множення матриць:\n",
            "[[100  32]\n",
            " [ 12   6]]\n"
          ]
        }
      ]
    },
    {
      "cell_type": "markdown",
      "source": [
        "Створіть дві матриці розміром 2x2, заповніть їх випадковими цілими числами в діапазоні від 1 до 10 та знайдіть їх добуток."
      ],
      "metadata": {
        "id": "hDf5zQlN0wuC"
      }
    },
    {
      "cell_type": "code",
      "source": [
        "matrix1 = np.random.randint(1, 11, size=(2, 2))\n",
        "matrix2 = np.random.randint(1, 11, size=(2, 2))\n",
        "\n",
        "print(\"Матриця 1:\")\n",
        "print(matrix1)\n",
        "print(\"Матриця 2:\")\n",
        "print(matrix2)\n",
        "\n",
        "result = np.dot(matrix1, matrix2)\n",
        "\n",
        "print(\"Добуток матриць:\")\n",
        "print(result)"
      ],
      "metadata": {
        "colab": {
          "base_uri": "https://localhost:8080/"
        },
        "id": "-ZrU3jkp0xf9",
        "outputId": "80aba107-1ee3-4a4b-8380-f87492424075"
      },
      "execution_count": null,
      "outputs": [
        {
          "output_type": "stream",
          "name": "stdout",
          "text": [
            "Матриця 1:\n",
            "[[ 3 10]\n",
            " [ 5  2]]\n",
            "Матриця 2:\n",
            "[[7 7]\n",
            " [1 4]]\n",
            "Добуток матриць:\n",
            "[[31 61]\n",
            " [37 43]]\n"
          ]
        }
      ]
    },
    {
      "cell_type": "markdown",
      "source": [
        "Створіть матрицю розміром 5x5, заповніть її випадковими цілими числами в діапазоні від 1 до 100 та знайдіть суму елементів матриці."
      ],
      "metadata": {
        "id": "nffOdCl31U-6"
      }
    },
    {
      "cell_type": "code",
      "source": [
        "matrix = np.random.randint(1, 101, size=(5, 5))\n",
        "\n",
        "print(\"Матриця:\")\n",
        "print(matrix)\n",
        "\n",
        "sum_elements = np.sum(matrix)\n",
        "\n",
        "print(\"Сума елементів матриці:\")\n",
        "print(sum_elements)"
      ],
      "metadata": {
        "colab": {
          "base_uri": "https://localhost:8080/"
        },
        "id": "AywOAPsF1WNL",
        "outputId": "06b6e242-3e36-4336-8cae-8cf973d5efc8"
      },
      "execution_count": null,
      "outputs": [
        {
          "output_type": "stream",
          "name": "stdout",
          "text": [
            "Матриця:\n",
            "[[ 61  56   1  91  67]\n",
            " [ 64  58   7  30  71]\n",
            " [ 55  99  71  10 100]\n",
            " [ 78  36  88  39  62]\n",
            " [ 58  66  67  94  33]]\n",
            "Сума елементів матриці:\n",
            "1462\n"
          ]
        }
      ]
    },
    {
      "cell_type": "markdown",
      "source": [
        "Створіть дві матриці розміром 4x4, заповніть їх випадковими цілими числами в діапазоні від 1 до 10 та знайдіть їхню різницю."
      ],
      "metadata": {
        "id": "FMio0o4M12fA"
      }
    },
    {
      "cell_type": "code",
      "source": [
        "matrix1 = np.random.randint(1, 11, size=(4, 4))\n",
        "matrix2 = np.random.randint(1, 11, size=(4, 4))\n",
        "\n",
        "print(\"Матриця 1:\")\n",
        "print(matrix1)\n",
        "print(\"Матриця 2:\")\n",
        "print(matrix2)\n",
        "\n",
        "difference = matrix1 - matrix2\n",
        "\n",
        "print(\"Різниця матриць:\")\n",
        "print(difference)"
      ],
      "metadata": {
        "colab": {
          "base_uri": "https://localhost:8080/"
        },
        "id": "u7OFpLhd14so",
        "outputId": "1f1c6972-2315-4565-c6b4-316cbd2df76d"
      },
      "execution_count": null,
      "outputs": [
        {
          "output_type": "stream",
          "name": "stdout",
          "text": [
            "Матриця 1:\n",
            "[[ 6  2  4  4]\n",
            " [ 6  4 10  2]\n",
            " [ 9  7  5  5]\n",
            " [ 6  1  3  1]]\n",
            "Матриця 2:\n",
            "[[ 8  6  7  1]\n",
            " [ 2  3  3  6]\n",
            " [ 5  5  4  6]\n",
            " [10  8 10  8]]\n",
            "Різниця матриць:\n",
            "[[-2 -4 -3  3]\n",
            " [ 4  1  7 -4]\n",
            " [ 4  2  1 -1]\n",
            " [-4 -7 -7 -7]]\n"
          ]
        }
      ]
    },
    {
      "cell_type": "markdown",
      "source": [
        "Створіть матрицю розміром 3x3, заповніть її випадковими дійсними числами в діапазоні від 0 до 1 та знайдіть вектор-стовпчик, що містить суму елементів кожного рядка матриці."
      ],
      "metadata": {
        "id": "cW2ykt6s2Jq3"
      }
    },
    {
      "cell_type": "code",
      "source": [
        "matrix = np.random.rand(3, 3)\n",
        "\n",
        "print(\"Матриця:\")\n",
        "print(matrix)\n",
        "\n",
        "sum_rows = np.sum(matrix, axis=1)\n",
        "\n",
        "print(\"Вектор-стовпчик сум елементів кожного рядка матриці:\")\n",
        "print(sum_rows)"
      ],
      "metadata": {
        "colab": {
          "base_uri": "https://localhost:8080/"
        },
        "id": "7U6aUsnJ2KPY",
        "outputId": "518811e4-a645-4786-a97c-449a6ae5ae02"
      },
      "execution_count": null,
      "outputs": [
        {
          "output_type": "stream",
          "name": "stdout",
          "text": [
            "Матриця:\n",
            "[[0.0332514  0.94620213 0.23793047]\n",
            " [0.48581902 0.2820644  0.22285037]\n",
            " [0.76069872 0.6083135  0.01457008]]\n",
            "Вектор-стовпчик сум елементів кожного рядка матриці:\n",
            "[1.21738401 0.99073379 1.38358231]\n"
          ]
        }
      ]
    },
    {
      "cell_type": "markdown",
      "source": [
        "Створіть матрицю розміром 3x4 з довільними цілими числами і створінь матрицю з квадратами цих чисел."
      ],
      "metadata": {
        "id": "NcfGabJ-2Z6V"
      }
    },
    {
      "cell_type": "code",
      "source": [
        "matrix = np.random.randint(-10, 11, size=(3, 4))\n",
        "\n",
        "print(\"Матриця:\")\n",
        "print(matrix)\n",
        "\n",
        "squares_matrix = matrix ** 2\n",
        "\n",
        "print(\"Матриця з квадратами чисел:\")\n",
        "print(squares_matrix)"
      ],
      "metadata": {
        "colab": {
          "base_uri": "https://localhost:8080/"
        },
        "id": "5syUXQv42aiJ",
        "outputId": "d1e5aa4e-8643-42f6-a819-f169c4ca4dfe"
      },
      "execution_count": null,
      "outputs": [
        {
          "output_type": "stream",
          "name": "stdout",
          "text": [
            "Матриця:\n",
            "[[  5  -9   5  -2]\n",
            " [ 10   3  -6  -1]\n",
            " [  4  -6 -10   0]]\n",
            "Матриця з квадратами чисел:\n",
            "[[ 25  81  25   4]\n",
            " [100   9  36   1]\n",
            " [ 16  36 100   0]]\n"
          ]
        }
      ]
    },
    {
      "cell_type": "markdown",
      "source": [
        "Створіть вектор розміром 4, заповніть його випадковими цілими числами в діапазоні від 1 до 50 та знайдіть вектор з квадратними коренями цих чисел."
      ],
      "metadata": {
        "id": "KBtL1uvX2mWc"
      }
    },
    {
      "cell_type": "code",
      "source": [
        "vector = np.random.randint(1, 51, size=4)\n",
        "\n",
        "print(\"Вектор:\")\n",
        "print(vector)\n",
        "\n",
        "sqrt_vector = np.sqrt(vector)\n",
        "\n",
        "print(\"Вектор з квадратними коренями чисел:\")\n",
        "print(sqrt_vector)"
      ],
      "metadata": {
        "colab": {
          "base_uri": "https://localhost:8080/"
        },
        "id": "wO6Is92Y2m9o",
        "outputId": "782f7f56-8ada-4520-841a-c58cf6445d7e"
      },
      "execution_count": null,
      "outputs": [
        {
          "output_type": "stream",
          "name": "stdout",
          "text": [
            "Вектор:\n",
            "[20 27 49 15]\n",
            "Вектор з квадратними коренями чисел:\n",
            "[4.47213595 5.19615242 7.         3.87298335]\n"
          ]
        }
      ]
    }
  ]
}