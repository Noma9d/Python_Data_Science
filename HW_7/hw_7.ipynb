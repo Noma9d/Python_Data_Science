{
 "cells": [
  {
   "cell_type": "markdown",
   "metadata": {},
   "source": [
    "На цьому тижні ми вивчили як працюють рекомендаційні системи. Пропонуємо вам познайомитись з бібліотекою surprise, котра якраз є по суті додатком до знайомої нам бібліотеки scikit-learn для тренування моделей рекомендаційних систем.\n",
    "\n",
    "Візьміть датасет movielens і побудуйте модель матричної факторизації. У даній бібліотеці він має назву SVD. Підберіть найкращі параметри за допомогою крос-валідації, також поекспериментуйте з іншими алгоритмами розрахунків (SVD++, NMF) і оберіть той, який буде оптимальним.\n",
    "\n",
    "Підказки як саме побудувати дану модель ви знайдете в документації до даної бібліотеки.\n",
    "\n"
   ]
  },
  {
   "cell_type": "code",
   "execution_count": null,
   "metadata": {},
   "outputs": [],
   "source": [
    "from surprise import Dataset, Reader\n",
    "from surprise.model_selection import cross_validate\n",
    "from surprise.model_selection import GridSearchCV\n",
    "from surprise import SVD, SVDpp, NMF"
   ]
  },
  {
   "cell_type": "code",
   "execution_count": 14,
   "metadata": {},
   "outputs": [
    {
     "name": "stdout",
     "output_type": "stream",
     "text": [
      "Best RMSE score for <class 'surprise.prediction_algorithms.matrix_factorization.SVD'>: 0.9449293691615086\n",
      "Best parameters: {'n_factors': 2, 'n_epochs': 10}\n",
      "Best RMSE score for <class 'surprise.prediction_algorithms.matrix_factorization.SVDpp'>: 0.9382106358473521\n",
      "Best parameters: {'n_factors': 2, 'n_epochs': 10}\n",
      "Best RMSE score for <class 'surprise.prediction_algorithms.matrix_factorization.NMF'>: 1.7955271556209156\n",
      "Best parameters: {'n_factors': 4, 'n_epochs': 5}\n",
      "\n",
      "Best algorithm overall: <class 'surprise.prediction_algorithms.matrix_factorization.SVDpp'>\n",
      "Best RMSE score: 0.9382106358473521\n",
      "Best parameters: {'n_factors': 2, 'n_epochs': 10}\n"
     ]
    }
   ],
   "source": [
    "# Загружаем данные и определяем Reader\n",
    "data = Dataset.load_builtin('ml-100k')\n",
    "reader = Reader(rating_scale=(1, 5))\n",
    "\n",
    "# Строим тренировочный набор\n",
    "trainset = data.build_full_trainset()\n",
    "\n",
    "# Определяем алгоритмы и их параметры\n",
    "algos = [SVD, SVDpp, NMF]\n",
    "param_grid = {'n_factors': [2,4],\n",
    "              'n_epochs': [5,10]}\n",
    "\n",
    "\n",
    "# Используем GridSearchCV для вибора лучших параметров алгоритма\n",
    "best_algo = None\n",
    "best_params = None\n",
    "best_score = float('inf')\n",
    "\n",
    "for algo in algos:\n",
    "    grid_search = GridSearchCV(algo, param_grid, measures=[\"rmse\"], cv=5)\n",
    "    grid_search.fit(data)\n",
    "    \n",
    "    # Вывод лучших параметров и RMSE\n",
    "    print(f\"Best RMSE score for {algo}: {grid_search.best_score['rmse']}\")\n",
    "    print(f\"Best parameters: {grid_search.best_params['rmse']}\")\n",
    "    \n",
    "    if grid_search.best_score['rmse'] < best_score:\n",
    "        best_score = grid_search.best_score['rmse']\n",
    "        best_params = grid_search.best_params['rmse']\n",
    "        best_algo = algo\n",
    "\n",
    "print(f\"\\nBest algorithm overall: {best_algo}\")\n",
    "print(f\"Best RMSE score: {best_score}\")\n",
    "print(f\"Best parameters: {best_params}\")\n"
   ]
  }
 ],
 "metadata": {
  "kernelspec": {
   "display_name": "python-data-science-mufRuuPf-py3.11",
   "language": "python",
   "name": "python3"
  },
  "language_info": {
   "codemirror_mode": {
    "name": "ipython",
    "version": 3
   },
   "file_extension": ".py",
   "mimetype": "text/x-python",
   "name": "python",
   "nbconvert_exporter": "python",
   "pygments_lexer": "ipython3",
   "version": "3.10.12"
  }
 },
 "nbformat": 4,
 "nbformat_minor": 2
}
