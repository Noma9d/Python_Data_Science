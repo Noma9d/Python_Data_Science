{
 "cells": [
  {
   "cell_type": "markdown",
   "metadata": {},
   "source": [
    "В цій частині ми знову будемо працювати з датасетом fasion_mnist.\n",
    "\n",
    "На відміну від попереднього завдання вам пропонується створити згорткову нейромережу, що використовує VGG16 в якості згорткової основи.\n",
    "\n",
    "Навчіть отриману мережу на даних із датасету fasion_mnist. Спробуйте досягти максимально можливої точності класифікації за рахунок маніпуляції параметрами мережі. Під час навчання використовуйте прийоми донавчання та виділення ознак.\n",
    "\n",
    "Порівняйте точність отриманої згорткової мережі з точністю багатошарової мережі з попереднього завдання. Зробіть висновки."
   ]
  },
  {
   "cell_type": "code",
   "execution_count": 6,
   "metadata": {},
   "outputs": [],
   "source": [
    "import tensorflow as tf\n",
    "from tensorflow.keras import layers, models\n",
    "from tensorflow.keras.datasets import fashion_mnist\n",
    "from tensorflow.keras.applications import VGG16\n",
    "from tensorflow.keras.preprocessing.image import ImageDataGenerator\n",
    "from scipy import ndimage\n",
    "import numpy as np"
   ]
  },
  {
   "cell_type": "code",
   "execution_count": 7,
   "metadata": {},
   "outputs": [
    {
     "name": "stderr",
     "output_type": "stream",
     "text": [
      "2024-01-17 22:37:05.626315: W external/local_tsl/tsl/framework/cpu_allocator_impl.cc:83] Allocation of 737280000 exceeds 10% of free system memory.\n",
      "2024-01-17 22:37:06.797878: W external/local_tsl/tsl/framework/cpu_allocator_impl.cc:83] Allocation of 737280000 exceeds 10% of free system memory.\n"
     ]
    }
   ],
   "source": [
    "# Завантажимо та підготуємо дані\n",
    "(x_train, y_train), (x_test, y_test) = fashion_mnist.load_data()\n",
    "\n",
    "# Конвертація чорно-білих зображень у зображення RGB\n",
    "x_train_rgb = np.stack((x_train,) * 3, axis=-1)\n",
    "x_test_rgb = np.stack((x_test,) * 3, axis=-1)\n",
    "\n",
    "# Зміна розміру та нормалізація\n",
    "x_train_rgb = tf.image.resize(x_train_rgb, (32, 32)) / 255.0\n",
    "x_test_rgb = tf.image.resize(x_test_rgb, (32, 32)) / 255.0\n",
    "\n",
    "y_train = tf.keras.utils.to_categorical(y_train, 10)\n",
    "y_test = tf.keras.utils.to_categorical(y_test, 10)"
   ]
  },
  {
   "cell_type": "code",
   "execution_count": 3,
   "metadata": {},
   "outputs": [],
   "source": [
    "# Завантажимо VGG16 без верхнього повнозв'язного шару та ваг\n",
    "base_model = VGG16(weights='imagenet', include_top=False, input_shape=(32, 32, 3))\n",
    "\n",
    "# Додамо верхній повнозв'язний шар\n",
    "model = models.Sequential()\n",
    "model.add(base_model)\n",
    "model.add(layers.Flatten())\n",
    "model.add(layers.Dense(256, activation='relu'))\n",
    "model.add(layers.Dropout(0.5))\n",
    "model.add(layers.Dense(10, activation='softmax'))\n",
    "\n",
    "# Заморозимо ваги VGG16\n",
    "base_model.trainable = False\n",
    "\n",
    "# Скомпілюємо модель\n",
    "model.compile(optimizer='adam', loss='categorical_crossentropy', metrics=['accuracy'])"
   ]
  },
  {
   "cell_type": "code",
   "execution_count": 4,
   "metadata": {},
   "outputs": [
    {
     "name": "stdout",
     "output_type": "stream",
     "text": [
      "Model: \"sequential\"\n",
      "_________________________________________________________________\n",
      " Layer (type)                Output Shape              Param #   \n",
      "=================================================================\n",
      " vgg16 (Functional)          (None, 1, 1, 512)         14714688  \n",
      "                                                                 \n",
      " flatten (Flatten)           (None, 512)               0         \n",
      "                                                                 \n",
      " dense (Dense)               (None, 256)               131328    \n",
      "                                                                 \n",
      " dropout (Dropout)           (None, 256)               0         \n",
      "                                                                 \n",
      " dense_1 (Dense)             (None, 10)                2570      \n",
      "                                                                 \n",
      "=================================================================\n",
      "Total params: 14848586 (56.64 MB)\n",
      "Trainable params: 133898 (523.04 KB)\n",
      "Non-trainable params: 14714688 (56.13 MB)\n",
      "_________________________________________________________________\n"
     ]
    }
   ],
   "source": [
    "model.summary()"
   ]
  },
  {
   "cell_type": "code",
   "execution_count": 12,
   "metadata": {},
   "outputs": [],
   "source": [
    "# Використовуємо прийоми донавчання та виділення ознак\n",
    "datagen = ImageDataGenerator(\n",
    "    featurewise_center=True,\n",
    "    featurewise_std_normalization=True,\n",
    "    rotation_range=20,\n",
    "    width_shift_range=0.2,\n",
    "    height_shift_range=0.2,\n",
    "    horizontal_flip=True\n",
    ")"
   ]
  },
  {
   "cell_type": "code",
   "execution_count": 15,
   "metadata": {},
   "outputs": [
    {
     "name": "stderr",
     "output_type": "stream",
     "text": [
      "/home/nomd/.local/lib/python3.10/site-packages/keras/src/preprocessing/image.py:1862: UserWarning: This ImageDataGenerator specifies `featurewise_center`, but it hasn't been fit on any training data. Fit it first by calling `.fit(numpy_data)`.\n",
      "  warnings.warn(\n",
      "/home/nomd/.local/lib/python3.10/site-packages/keras/src/preprocessing/image.py:1872: UserWarning: This ImageDataGenerator specifies `featurewise_std_normalization`, but it hasn't been fit on any training data. Fit it first by calling `.fit(numpy_data)`.\n",
      "  warnings.warn(\n"
     ]
    },
    {
     "name": "stdout",
     "output_type": "stream",
     "text": [
      "Epoch 1/10\n",
      "937/937 [==============================] - 329s 348ms/step - loss: 0.8318 - accuracy: 0.7026 - val_loss: 0.6470 - val_accuracy: 0.7674\n",
      "Epoch 2/10\n",
      "937/937 [==============================] - 326s 348ms/step - loss: 0.6624 - accuracy: 0.7592 - val_loss: 0.6168 - val_accuracy: 0.7677\n",
      "Epoch 3/10\n",
      "937/937 [==============================] - 330s 352ms/step - loss: 0.6234 - accuracy: 0.7721 - val_loss: 0.5682 - val_accuracy: 0.7895\n",
      "Epoch 4/10\n",
      "937/937 [==============================] - 321s 343ms/step - loss: 0.6035 - accuracy: 0.7762 - val_loss: 0.5337 - val_accuracy: 0.8077\n",
      "Epoch 5/10\n",
      "937/937 [==============================] - 325s 347ms/step - loss: 0.5880 - accuracy: 0.7819 - val_loss: 0.5378 - val_accuracy: 0.7944\n",
      "Epoch 6/10\n",
      "937/937 [==============================] - 329s 351ms/step - loss: 0.5778 - accuracy: 0.7855 - val_loss: 0.5307 - val_accuracy: 0.8035\n",
      "Epoch 7/10\n",
      "937/937 [==============================] - 331s 353ms/step - loss: 0.5733 - accuracy: 0.7886 - val_loss: 0.5036 - val_accuracy: 0.8085\n",
      "Epoch 8/10\n",
      "937/937 [==============================] - 326s 348ms/step - loss: 0.5635 - accuracy: 0.7922 - val_loss: 0.5062 - val_accuracy: 0.8141\n",
      "Epoch 9/10\n",
      "937/937 [==============================] - 333s 355ms/step - loss: 0.5603 - accuracy: 0.7907 - val_loss: 0.4851 - val_accuracy: 0.8218\n",
      "Epoch 10/10\n",
      "937/937 [==============================] - 331s 353ms/step - loss: 0.5573 - accuracy: 0.7932 - val_loss: 0.4988 - val_accuracy: 0.8176\n"
     ]
    },
    {
     "name": "stderr",
     "output_type": "stream",
     "text": [
      "2024-01-17 23:39:33.107606: W tensorflow/core/framework/op_kernel.cc:1839] OP_REQUIRES failed at conv_ops_fused_impl.h:761 : INVALID_ARGUMENT: convolution input must be 4-dimensional: [32,32,32,3,1]\n"
     ]
    },
    {
     "ename": "InvalidArgumentError",
     "evalue": "Graph execution error:\n\nDetected at node sequential/vgg16/block1_conv1/Relu defined at (most recent call last):\n  File \"/usr/lib/python3.10/runpy.py\", line 196, in _run_module_as_main\n\n  File \"/usr/lib/python3.10/runpy.py\", line 86, in _run_code\n\n  File \"/home/nomd/.local/lib/python3.10/site-packages/ipykernel_launcher.py\", line 17, in <module>\n\n  File \"/home/nomd/.local/lib/python3.10/site-packages/traitlets/config/application.py\", line 1075, in launch_instance\n\n  File \"/home/nomd/.local/lib/python3.10/site-packages/ipykernel/kernelapp.py\", line 739, in start\n\n  File \"/home/nomd/.local/lib/python3.10/site-packages/tornado/platform/asyncio.py\", line 205, in start\n\n  File \"/usr/lib/python3.10/asyncio/base_events.py\", line 603, in run_forever\n\n  File \"/usr/lib/python3.10/asyncio/base_events.py\", line 1909, in _run_once\n\n  File \"/usr/lib/python3.10/asyncio/events.py\", line 80, in _run\n\n  File \"/home/nomd/.local/lib/python3.10/site-packages/ipykernel/kernelbase.py\", line 542, in dispatch_queue\n\n  File \"/home/nomd/.local/lib/python3.10/site-packages/ipykernel/kernelbase.py\", line 531, in process_one\n\n  File \"/home/nomd/.local/lib/python3.10/site-packages/ipykernel/kernelbase.py\", line 437, in dispatch_shell\n\n  File \"/home/nomd/.local/lib/python3.10/site-packages/ipykernel/ipkernel.py\", line 359, in execute_request\n\n  File \"/home/nomd/.local/lib/python3.10/site-packages/ipykernel/kernelbase.py\", line 775, in execute_request\n\n  File \"/home/nomd/.local/lib/python3.10/site-packages/ipykernel/ipkernel.py\", line 446, in do_execute\n\n  File \"/home/nomd/.local/lib/python3.10/site-packages/ipykernel/zmqshell.py\", line 549, in run_cell\n\n  File \"/home/nomd/.local/lib/python3.10/site-packages/IPython/core/interactiveshell.py\", line 3051, in run_cell\n\n  File \"/home/nomd/.local/lib/python3.10/site-packages/IPython/core/interactiveshell.py\", line 3106, in _run_cell\n\n  File \"/home/nomd/.local/lib/python3.10/site-packages/IPython/core/async_helpers.py\", line 129, in _pseudo_sync_runner\n\n  File \"/home/nomd/.local/lib/python3.10/site-packages/IPython/core/interactiveshell.py\", line 3311, in run_cell_async\n\n  File \"/home/nomd/.local/lib/python3.10/site-packages/IPython/core/interactiveshell.py\", line 3493, in run_ast_nodes\n\n  File \"/home/nomd/.local/lib/python3.10/site-packages/IPython/core/interactiveshell.py\", line 3553, in run_code\n\n  File \"/tmp/ipykernel_13939/530979995.py\", line 9, in <module>\n\n  File \"/home/nomd/.local/lib/python3.10/site-packages/keras/src/utils/traceback_utils.py\", line 65, in error_handler\n\n  File \"/home/nomd/.local/lib/python3.10/site-packages/keras/src/engine/training.py\", line 2296, in evaluate\n\n  File \"/home/nomd/.local/lib/python3.10/site-packages/keras/src/engine/training.py\", line 4108, in run_step\n\n  File \"/home/nomd/.local/lib/python3.10/site-packages/keras/src/engine/training.py\", line 2066, in test_function\n\n  File \"/home/nomd/.local/lib/python3.10/site-packages/keras/src/engine/training.py\", line 2049, in step_function\n\n  File \"/home/nomd/.local/lib/python3.10/site-packages/keras/src/engine/training.py\", line 2037, in run_step\n\n  File \"/home/nomd/.local/lib/python3.10/site-packages/keras/src/engine/training.py\", line 1917, in test_step\n\n  File \"/home/nomd/.local/lib/python3.10/site-packages/keras/src/utils/traceback_utils.py\", line 65, in error_handler\n\n  File \"/home/nomd/.local/lib/python3.10/site-packages/keras/src/engine/training.py\", line 590, in __call__\n\n  File \"/home/nomd/.local/lib/python3.10/site-packages/keras/src/utils/traceback_utils.py\", line 65, in error_handler\n\n  File \"/home/nomd/.local/lib/python3.10/site-packages/keras/src/engine/base_layer.py\", line 1149, in __call__\n\n  File \"/home/nomd/.local/lib/python3.10/site-packages/keras/src/utils/traceback_utils.py\", line 96, in error_handler\n\n  File \"/home/nomd/.local/lib/python3.10/site-packages/keras/src/engine/sequential.py\", line 398, in call\n\n  File \"/home/nomd/.local/lib/python3.10/site-packages/keras/src/engine/functional.py\", line 515, in call\n\n  File \"/home/nomd/.local/lib/python3.10/site-packages/keras/src/engine/functional.py\", line 672, in _run_internal_graph\n\n  File \"/home/nomd/.local/lib/python3.10/site-packages/keras/src/utils/traceback_utils.py\", line 65, in error_handler\n\n  File \"/home/nomd/.local/lib/python3.10/site-packages/keras/src/engine/training.py\", line 590, in __call__\n\n  File \"/home/nomd/.local/lib/python3.10/site-packages/keras/src/utils/traceback_utils.py\", line 65, in error_handler\n\n  File \"/home/nomd/.local/lib/python3.10/site-packages/keras/src/engine/base_layer.py\", line 1149, in __call__\n\n  File \"/home/nomd/.local/lib/python3.10/site-packages/keras/src/utils/traceback_utils.py\", line 96, in error_handler\n\n  File \"/home/nomd/.local/lib/python3.10/site-packages/keras/src/engine/functional.py\", line 515, in call\n\n  File \"/home/nomd/.local/lib/python3.10/site-packages/keras/src/engine/functional.py\", line 672, in _run_internal_graph\n\n  File \"/home/nomd/.local/lib/python3.10/site-packages/keras/src/utils/traceback_utils.py\", line 65, in error_handler\n\n  File \"/home/nomd/.local/lib/python3.10/site-packages/keras/src/engine/base_layer.py\", line 1149, in __call__\n\n  File \"/home/nomd/.local/lib/python3.10/site-packages/keras/src/utils/traceback_utils.py\", line 96, in error_handler\n\n  File \"/home/nomd/.local/lib/python3.10/site-packages/keras/src/layers/convolutional/base_conv.py\", line 321, in call\n\n  File \"/home/nomd/.local/lib/python3.10/site-packages/keras/src/activations.py\", line 306, in relu\n\n  File \"/home/nomd/.local/lib/python3.10/site-packages/keras/src/backend.py\", line 5395, in relu\n\nconvolution input must be 4-dimensional: [32,32,32,3,1]\n\t [[{{node sequential/vgg16/block1_conv1/Relu}}]] [Op:__inference_test_function_52627]",
     "output_type": "error",
     "traceback": [
      "\u001b[0;31m---------------------------------------------------------------------------\u001b[0m",
      "\u001b[0;31mInvalidArgumentError\u001b[0m                      Traceback (most recent call last)",
      "Cell \u001b[0;32mIn[15], line 9\u001b[0m\n\u001b[1;32m      2\u001b[0m model\u001b[38;5;241m.\u001b[39mfit(datagen\u001b[38;5;241m.\u001b[39mflow(x_train_rgb\u001b[38;5;241m.\u001b[39mnumpy()\u001b[38;5;241m.\u001b[39mreshape((\u001b[38;5;241m-\u001b[39m\u001b[38;5;241m1\u001b[39m, \u001b[38;5;241m32\u001b[39m, \u001b[38;5;241m32\u001b[39m, \u001b[38;5;241m3\u001b[39m)), y_train, batch_size\u001b[38;5;241m=\u001b[39m\u001b[38;5;241m64\u001b[39m),\n\u001b[1;32m      3\u001b[0m           steps_per_epoch\u001b[38;5;241m=\u001b[39m\u001b[38;5;28mlen\u001b[39m(x_train_rgb) \u001b[38;5;241m/\u001b[39m \u001b[38;5;241m64\u001b[39m,\n\u001b[1;32m      4\u001b[0m           epochs\u001b[38;5;241m=\u001b[39m\u001b[38;5;241m10\u001b[39m,\n\u001b[1;32m      5\u001b[0m           validation_data\u001b[38;5;241m=\u001b[39m(x_test_rgb\u001b[38;5;241m.\u001b[39mnumpy()\u001b[38;5;241m.\u001b[39mreshape((\u001b[38;5;241m-\u001b[39m\u001b[38;5;241m1\u001b[39m, \u001b[38;5;241m32\u001b[39m, \u001b[38;5;241m32\u001b[39m, \u001b[38;5;241m3\u001b[39m)), y_test))\n\u001b[1;32m      8\u001b[0m \u001b[38;5;66;03m# Оцінка точності на тестовому наборі\u001b[39;00m\n\u001b[0;32m----> 9\u001b[0m test_loss, test_acc \u001b[38;5;241m=\u001b[39m \u001b[43mmodel\u001b[49m\u001b[38;5;241;43m.\u001b[39;49m\u001b[43mevaluate\u001b[49m\u001b[43m(\u001b[49m\u001b[43mx_test_rgb\u001b[49m\u001b[43m,\u001b[49m\u001b[43m \u001b[49m\u001b[43my_test\u001b[49m\u001b[43m)\u001b[49m\n\u001b[1;32m     10\u001b[0m \u001b[38;5;28mprint\u001b[39m(\u001b[38;5;124m\"\u001b[39m\u001b[38;5;124mТочність на тестовому наборі:\u001b[39m\u001b[38;5;124m\"\u001b[39m, test_acc)\n",
      "File \u001b[0;32m~/.local/lib/python3.10/site-packages/keras/src/utils/traceback_utils.py:70\u001b[0m, in \u001b[0;36mfilter_traceback.<locals>.error_handler\u001b[0;34m(*args, **kwargs)\u001b[0m\n\u001b[1;32m     67\u001b[0m     filtered_tb \u001b[38;5;241m=\u001b[39m _process_traceback_frames(e\u001b[38;5;241m.\u001b[39m__traceback__)\n\u001b[1;32m     68\u001b[0m     \u001b[38;5;66;03m# To get the full stack trace, call:\u001b[39;00m\n\u001b[1;32m     69\u001b[0m     \u001b[38;5;66;03m# `tf.debugging.disable_traceback_filtering()`\u001b[39;00m\n\u001b[0;32m---> 70\u001b[0m     \u001b[38;5;28;01mraise\u001b[39;00m e\u001b[38;5;241m.\u001b[39mwith_traceback(filtered_tb) \u001b[38;5;28;01mfrom\u001b[39;00m \u001b[38;5;28;01mNone\u001b[39;00m\n\u001b[1;32m     71\u001b[0m \u001b[38;5;28;01mfinally\u001b[39;00m:\n\u001b[1;32m     72\u001b[0m     \u001b[38;5;28;01mdel\u001b[39;00m filtered_tb\n",
      "File \u001b[0;32m~/.local/lib/python3.10/site-packages/tensorflow/python/eager/execute.py:53\u001b[0m, in \u001b[0;36mquick_execute\u001b[0;34m(op_name, num_outputs, inputs, attrs, ctx, name)\u001b[0m\n\u001b[1;32m     51\u001b[0m \u001b[38;5;28;01mtry\u001b[39;00m:\n\u001b[1;32m     52\u001b[0m   ctx\u001b[38;5;241m.\u001b[39mensure_initialized()\n\u001b[0;32m---> 53\u001b[0m   tensors \u001b[38;5;241m=\u001b[39m pywrap_tfe\u001b[38;5;241m.\u001b[39mTFE_Py_Execute(ctx\u001b[38;5;241m.\u001b[39m_handle, device_name, op_name,\n\u001b[1;32m     54\u001b[0m                                       inputs, attrs, num_outputs)\n\u001b[1;32m     55\u001b[0m \u001b[38;5;28;01mexcept\u001b[39;00m core\u001b[38;5;241m.\u001b[39m_NotOkStatusException \u001b[38;5;28;01mas\u001b[39;00m e:\n\u001b[1;32m     56\u001b[0m   \u001b[38;5;28;01mif\u001b[39;00m name \u001b[38;5;129;01mis\u001b[39;00m \u001b[38;5;129;01mnot\u001b[39;00m \u001b[38;5;28;01mNone\u001b[39;00m:\n",
      "\u001b[0;31mInvalidArgumentError\u001b[0m: Graph execution error:\n\nDetected at node sequential/vgg16/block1_conv1/Relu defined at (most recent call last):\n  File \"/usr/lib/python3.10/runpy.py\", line 196, in _run_module_as_main\n\n  File \"/usr/lib/python3.10/runpy.py\", line 86, in _run_code\n\n  File \"/home/nomd/.local/lib/python3.10/site-packages/ipykernel_launcher.py\", line 17, in <module>\n\n  File \"/home/nomd/.local/lib/python3.10/site-packages/traitlets/config/application.py\", line 1075, in launch_instance\n\n  File \"/home/nomd/.local/lib/python3.10/site-packages/ipykernel/kernelapp.py\", line 739, in start\n\n  File \"/home/nomd/.local/lib/python3.10/site-packages/tornado/platform/asyncio.py\", line 205, in start\n\n  File \"/usr/lib/python3.10/asyncio/base_events.py\", line 603, in run_forever\n\n  File \"/usr/lib/python3.10/asyncio/base_events.py\", line 1909, in _run_once\n\n  File \"/usr/lib/python3.10/asyncio/events.py\", line 80, in _run\n\n  File \"/home/nomd/.local/lib/python3.10/site-packages/ipykernel/kernelbase.py\", line 542, in dispatch_queue\n\n  File \"/home/nomd/.local/lib/python3.10/site-packages/ipykernel/kernelbase.py\", line 531, in process_one\n\n  File \"/home/nomd/.local/lib/python3.10/site-packages/ipykernel/kernelbase.py\", line 437, in dispatch_shell\n\n  File \"/home/nomd/.local/lib/python3.10/site-packages/ipykernel/ipkernel.py\", line 359, in execute_request\n\n  File \"/home/nomd/.local/lib/python3.10/site-packages/ipykernel/kernelbase.py\", line 775, in execute_request\n\n  File \"/home/nomd/.local/lib/python3.10/site-packages/ipykernel/ipkernel.py\", line 446, in do_execute\n\n  File \"/home/nomd/.local/lib/python3.10/site-packages/ipykernel/zmqshell.py\", line 549, in run_cell\n\n  File \"/home/nomd/.local/lib/python3.10/site-packages/IPython/core/interactiveshell.py\", line 3051, in run_cell\n\n  File \"/home/nomd/.local/lib/python3.10/site-packages/IPython/core/interactiveshell.py\", line 3106, in _run_cell\n\n  File \"/home/nomd/.local/lib/python3.10/site-packages/IPython/core/async_helpers.py\", line 129, in _pseudo_sync_runner\n\n  File \"/home/nomd/.local/lib/python3.10/site-packages/IPython/core/interactiveshell.py\", line 3311, in run_cell_async\n\n  File \"/home/nomd/.local/lib/python3.10/site-packages/IPython/core/interactiveshell.py\", line 3493, in run_ast_nodes\n\n  File \"/home/nomd/.local/lib/python3.10/site-packages/IPython/core/interactiveshell.py\", line 3553, in run_code\n\n  File \"/tmp/ipykernel_13939/530979995.py\", line 9, in <module>\n\n  File \"/home/nomd/.local/lib/python3.10/site-packages/keras/src/utils/traceback_utils.py\", line 65, in error_handler\n\n  File \"/home/nomd/.local/lib/python3.10/site-packages/keras/src/engine/training.py\", line 2296, in evaluate\n\n  File \"/home/nomd/.local/lib/python3.10/site-packages/keras/src/engine/training.py\", line 4108, in run_step\n\n  File \"/home/nomd/.local/lib/python3.10/site-packages/keras/src/engine/training.py\", line 2066, in test_function\n\n  File \"/home/nomd/.local/lib/python3.10/site-packages/keras/src/engine/training.py\", line 2049, in step_function\n\n  File \"/home/nomd/.local/lib/python3.10/site-packages/keras/src/engine/training.py\", line 2037, in run_step\n\n  File \"/home/nomd/.local/lib/python3.10/site-packages/keras/src/engine/training.py\", line 1917, in test_step\n\n  File \"/home/nomd/.local/lib/python3.10/site-packages/keras/src/utils/traceback_utils.py\", line 65, in error_handler\n\n  File \"/home/nomd/.local/lib/python3.10/site-packages/keras/src/engine/training.py\", line 590, in __call__\n\n  File \"/home/nomd/.local/lib/python3.10/site-packages/keras/src/utils/traceback_utils.py\", line 65, in error_handler\n\n  File \"/home/nomd/.local/lib/python3.10/site-packages/keras/src/engine/base_layer.py\", line 1149, in __call__\n\n  File \"/home/nomd/.local/lib/python3.10/site-packages/keras/src/utils/traceback_utils.py\", line 96, in error_handler\n\n  File \"/home/nomd/.local/lib/python3.10/site-packages/keras/src/engine/sequential.py\", line 398, in call\n\n  File \"/home/nomd/.local/lib/python3.10/site-packages/keras/src/engine/functional.py\", line 515, in call\n\n  File \"/home/nomd/.local/lib/python3.10/site-packages/keras/src/engine/functional.py\", line 672, in _run_internal_graph\n\n  File \"/home/nomd/.local/lib/python3.10/site-packages/keras/src/utils/traceback_utils.py\", line 65, in error_handler\n\n  File \"/home/nomd/.local/lib/python3.10/site-packages/keras/src/engine/training.py\", line 590, in __call__\n\n  File \"/home/nomd/.local/lib/python3.10/site-packages/keras/src/utils/traceback_utils.py\", line 65, in error_handler\n\n  File \"/home/nomd/.local/lib/python3.10/site-packages/keras/src/engine/base_layer.py\", line 1149, in __call__\n\n  File \"/home/nomd/.local/lib/python3.10/site-packages/keras/src/utils/traceback_utils.py\", line 96, in error_handler\n\n  File \"/home/nomd/.local/lib/python3.10/site-packages/keras/src/engine/functional.py\", line 515, in call\n\n  File \"/home/nomd/.local/lib/python3.10/site-packages/keras/src/engine/functional.py\", line 672, in _run_internal_graph\n\n  File \"/home/nomd/.local/lib/python3.10/site-packages/keras/src/utils/traceback_utils.py\", line 65, in error_handler\n\n  File \"/home/nomd/.local/lib/python3.10/site-packages/keras/src/engine/base_layer.py\", line 1149, in __call__\n\n  File \"/home/nomd/.local/lib/python3.10/site-packages/keras/src/utils/traceback_utils.py\", line 96, in error_handler\n\n  File \"/home/nomd/.local/lib/python3.10/site-packages/keras/src/layers/convolutional/base_conv.py\", line 321, in call\n\n  File \"/home/nomd/.local/lib/python3.10/site-packages/keras/src/activations.py\", line 306, in relu\n\n  File \"/home/nomd/.local/lib/python3.10/site-packages/keras/src/backend.py\", line 5395, in relu\n\nconvolution input must be 4-dimensional: [32,32,32,3,1]\n\t [[{{node sequential/vgg16/block1_conv1/Relu}}]] [Op:__inference_test_function_52627]"
     ]
    }
   ],
   "source": [
    "# Навчання моделі\n",
    "model.fit(datagen.flow(x_train_rgb.numpy().reshape((-1, 32, 32, 3)), y_train, batch_size=64),\n",
    "          steps_per_epoch=len(x_train_rgb) / 64,\n",
    "          epochs=10,\n",
    "          validation_data=(x_test_rgb.numpy().reshape((-1, 32, 32, 3)), y_test))\n",
    "\n",
    "\n",
    "# Оцінка точності на тестовому наборі\n",
    "test_loss, test_acc = model.evaluate(x_test_rgb, y_test)\n",
    "print(\"Точність на тестовому наборі:\", test_acc)"
   ]
  }
 ],
 "metadata": {
  "kernelspec": {
   "display_name": "Python 3",
   "language": "python",
   "name": "python3"
  },
  "language_info": {
   "codemirror_mode": {
    "name": "ipython",
    "version": 3
   },
   "file_extension": ".py",
   "mimetype": "text/x-python",
   "name": "python",
   "nbconvert_exporter": "python",
   "pygments_lexer": "ipython3",
   "version": "3.10.12"
  }
 },
 "nbformat": 4,
 "nbformat_minor": 2
}
