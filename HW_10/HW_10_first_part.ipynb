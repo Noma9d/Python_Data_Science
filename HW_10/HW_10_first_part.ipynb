{
 "cells": [
  {
   "cell_type": "markdown",
   "metadata": {},
   "source": [
    "В якості домашнього завдання вам пропонується створити нейронну мережу за допомогою механізмів Keras, яка буде класифікувати товари із датасету fasion_mnist.\n",
    "\n",
    "На відміну від попереднього завдання вам пропонується створити згорткову нейромережу. Підберіть архітектуру мережі та навчіть її на даних із датасету fasion_mnist. Спробуйте досягти максимально можливої точності класифікації за рахунок маніпуляції параметрами мережі. Порівняйте точність отриманої згорткової мережі з точністю багатошарової мережі з попереднього завдання. Зробіть висновки."
   ]
  },
  {
   "cell_type": "code",
   "execution_count": 4,
   "metadata": {},
   "outputs": [
    {
     "name": "stdout",
     "output_type": "stream",
     "text": [
      "Epoch 1/10\n",
      "750/750 [==============================] - 17s 21ms/step - loss: 0.6044 - precision: 0.8592 - recall: 0.6937 - val_loss: 0.4269 - val_precision: 0.8752 - val_recall: 0.8084\n",
      "Epoch 2/10\n",
      "750/750 [==============================] - 16s 21ms/step - loss: 0.3760 - precision: 0.8924 - recall: 0.8357 - val_loss: 0.3572 - val_precision: 0.8990 - val_recall: 0.8509\n",
      "Epoch 3/10\n",
      "750/750 [==============================] - 17s 22ms/step - loss: 0.3200 - precision: 0.9039 - recall: 0.8642 - val_loss: 0.3209 - val_precision: 0.9034 - val_recall: 0.8671\n",
      "Epoch 4/10\n",
      "750/750 [==============================] - 15s 21ms/step - loss: 0.2889 - precision: 0.9117 - recall: 0.8777 - val_loss: 0.3129 - val_precision: 0.9042 - val_recall: 0.8710\n",
      "Epoch 5/10\n",
      "750/750 [==============================] - 17s 23ms/step - loss: 0.2655 - precision: 0.9179 - recall: 0.8885 - val_loss: 0.2886 - val_precision: 0.9113 - val_recall: 0.8788\n",
      "Epoch 6/10\n",
      "750/750 [==============================] - 16s 21ms/step - loss: 0.2420 - precision: 0.9249 - recall: 0.8984 - val_loss: 0.2794 - val_precision: 0.9141 - val_recall: 0.8847\n",
      "Epoch 7/10\n",
      "750/750 [==============================] - 15s 21ms/step - loss: 0.2227 - precision: 0.9295 - recall: 0.9061 - val_loss: 0.2733 - val_precision: 0.9149 - val_recall: 0.8923\n",
      "Epoch 8/10\n",
      "750/750 [==============================] - 16s 21ms/step - loss: 0.2084 - precision: 0.9356 - recall: 0.9146 - val_loss: 0.2642 - val_precision: 0.9183 - val_recall: 0.8960\n",
      "Epoch 9/10\n",
      "750/750 [==============================] - 16s 21ms/step - loss: 0.1954 - precision: 0.9380 - recall: 0.9186 - val_loss: 0.2593 - val_precision: 0.9187 - val_recall: 0.8970\n",
      "Epoch 10/10\n",
      "750/750 [==============================] - 17s 22ms/step - loss: 0.1789 - precision: 0.9435 - recall: 0.9259 - val_loss: 0.2648 - val_precision: 0.9188 - val_recall: 0.9045\n",
      "313/313 [==============================] - 1s 4ms/step\n",
      "F1-score: 0.9856182913152477\n"
     ]
    }
   ],
   "source": [
    "import numpy as np\n",
    "import tensorflow as tf\n",
    "from tensorflow.keras import layers, models\n",
    "from tensorflow.keras.datasets import fashion_mnist\n",
    "from tensorflow.keras.utils import to_categorical\n",
    "\n",
    "# Завантаження та підготовка даних\n",
    "(train_images, train_labels), (test_images, test_labels) = fashion_mnist.load_data()\n",
    "\n",
    "train_images = train_images.reshape((60000, 28, 28, 1)).astype(\"float32\") / 255\n",
    "test_images = test_images.reshape((10000, 28, 28, 1)).astype(\"float32\") / 255\n",
    "\n",
    "train_labels = to_categorical(train_labels)\n",
    "test_labels = to_categorical(test_labels)\n",
    "\n",
    "# Створення архітектури згорткової нейромережі\n",
    "model = models.Sequential()\n",
    "\n",
    "model.add(layers.Conv2D(32, (3, 3), activation=\"relu\", input_shape=(28, 28, 1)))\n",
    "model.add(layers.MaxPooling2D((2, 2)))\n",
    "\n",
    "model.add(layers.Conv2D(64, (3, 3), activation=\"relu\"))\n",
    "model.add(layers.MaxPooling2D((2, 2)))\n",
    "\n",
    "model.add(layers.Conv2D(64, (3, 3), activation=\"relu\"))\n",
    "\n",
    "model.add(layers.Flatten())\n",
    "model.add(layers.Dense(64, activation=\"relu\"))\n",
    "model.add(layers.Dense(10, activation=\"softmax\"))\n",
    "\n",
    "# Компіляція моделі з використанням F1-score\n",
    "model.compile(\n",
    "    optimizer=\"adam\",\n",
    "    loss=\"categorical_crossentropy\",\n",
    "    metrics=[tf.keras.metrics.Precision(), tf.keras.metrics.Recall()],\n",
    ")\n",
    "\n",
    "# Навчання моделі\n",
    "model.fit(train_images, train_labels, epochs=10, batch_size=64, validation_split=0.2)\n",
    "\n",
    "# Оцінка моделі за допомогою F1-score\n",
    "predictions = model.predict(test_images)\n",
    "predicted_labels = np.argmax(predictions, axis=1)\n",
    "true_labels = np.argmax(test_labels, axis=1)\n",
    "\n",
    "precision = tf.keras.metrics.Precision()\n",
    "precision.update_state(true_labels, predicted_labels)\n",
    "\n",
    "recall = tf.keras.metrics.Recall()\n",
    "recall.update_state(true_labels, predicted_labels)\n",
    "\n",
    "precision_result = precision.result().numpy()\n",
    "recall_result = recall.result().numpy()\n",
    "\n",
    "f1_score = 2 * (precision_result * recall_result) / (precision_result + recall_result)\n",
    "print(f\"F1-score: {f1_score}\")"
   ]
  },
  {
   "cell_type": "markdown",
   "metadata": {},
   "source": [
    "Точність моделі в випадку використання зготкової моделі вище в порівнянні з багатошаровою."
   ]
  }
 ],
 "metadata": {
  "kernelspec": {
   "display_name": "Python 3",
   "language": "python",
   "name": "python3"
  },
  "language_info": {
   "codemirror_mode": {
    "name": "ipython",
    "version": 3
   },
   "file_extension": ".py",
   "mimetype": "text/x-python",
   "name": "python",
   "nbconvert_exporter": "python",
   "pygments_lexer": "ipython3",
   "version": "3.10.12"
  }
 },
 "nbformat": 4,
 "nbformat_minor": 2
}
